{
 "cells": [
  {
   "cell_type": "code",
   "execution_count": 1,
   "id": "11ab27ed",
   "metadata": {},
   "outputs": [],
   "source": [
    "import matplotlib.pyplot as plt\n",
    "import numpy as np\n",
    "import pandas as pd\n",
    "import seaborn as sns\n",
    "import datetime"
   ]
  },
  {
   "cell_type": "code",
   "execution_count": 2,
   "id": "7f8db22a",
   "metadata": {},
   "outputs": [],
   "source": [
    "file='./russia_losses_equipment.csv'\n",
    "df=pd.read_csv(file)"
   ]
  },
  {
   "cell_type": "code",
   "execution_count": 3,
   "id": "5b9c6e99",
   "metadata": {},
   "outputs": [],
   "source": [
    "df.head() \n",
    "df=df.dropna(axis=1)"
   ]
  },
  {
   "cell_type": "code",
   "execution_count": 4,
   "id": "e8253209",
   "metadata": {},
   "outputs": [
    {
     "data": {
      "text/html": [
       "<div>\n",
       "<style scoped>\n",
       "    .dataframe tbody tr th:only-of-type {\n",
       "        vertical-align: middle;\n",
       "    }\n",
       "\n",
       "    .dataframe tbody tr th {\n",
       "        vertical-align: top;\n",
       "    }\n",
       "\n",
       "    .dataframe thead th {\n",
       "        text-align: right;\n",
       "    }\n",
       "</style>\n",
       "<table border=\"1\" class=\"dataframe\">\n",
       "  <thead>\n",
       "    <tr style=\"text-align: right;\">\n",
       "      <th></th>\n",
       "      <th>date</th>\n",
       "      <th>day</th>\n",
       "      <th>aircraft</th>\n",
       "      <th>helicopter</th>\n",
       "      <th>tank</th>\n",
       "      <th>APC</th>\n",
       "      <th>field artillery</th>\n",
       "      <th>MRL</th>\n",
       "      <th>drone</th>\n",
       "      <th>naval ship</th>\n",
       "      <th>anti-aircraft warfare</th>\n",
       "    </tr>\n",
       "  </thead>\n",
       "  <tbody>\n",
       "    <tr>\n",
       "      <th>243</th>\n",
       "      <td>2022-10-26</td>\n",
       "      <td>245</td>\n",
       "      <td>271</td>\n",
       "      <td>248</td>\n",
       "      <td>2628</td>\n",
       "      <td>5351</td>\n",
       "      <td>1686</td>\n",
       "      <td>379</td>\n",
       "      <td>1379</td>\n",
       "      <td>16</td>\n",
       "      <td>192</td>\n",
       "    </tr>\n",
       "    <tr>\n",
       "      <th>244</th>\n",
       "      <td>2022-10-27</td>\n",
       "      <td>246</td>\n",
       "      <td>271</td>\n",
       "      <td>249</td>\n",
       "      <td>2631</td>\n",
       "      <td>5364</td>\n",
       "      <td>1690</td>\n",
       "      <td>379</td>\n",
       "      <td>1398</td>\n",
       "      <td>16</td>\n",
       "      <td>192</td>\n",
       "    </tr>\n",
       "    <tr>\n",
       "      <th>245</th>\n",
       "      <td>2022-10-28</td>\n",
       "      <td>247</td>\n",
       "      <td>272</td>\n",
       "      <td>251</td>\n",
       "      <td>2640</td>\n",
       "      <td>5378</td>\n",
       "      <td>1698</td>\n",
       "      <td>379</td>\n",
       "      <td>1401</td>\n",
       "      <td>16</td>\n",
       "      <td>192</td>\n",
       "    </tr>\n",
       "    <tr>\n",
       "      <th>246</th>\n",
       "      <td>2022-10-29</td>\n",
       "      <td>248</td>\n",
       "      <td>273</td>\n",
       "      <td>252</td>\n",
       "      <td>2659</td>\n",
       "      <td>5401</td>\n",
       "      <td>1708</td>\n",
       "      <td>380</td>\n",
       "      <td>1406</td>\n",
       "      <td>16</td>\n",
       "      <td>195</td>\n",
       "    </tr>\n",
       "    <tr>\n",
       "      <th>247</th>\n",
       "      <td>2022-10-30</td>\n",
       "      <td>249</td>\n",
       "      <td>274</td>\n",
       "      <td>252</td>\n",
       "      <td>2672</td>\n",
       "      <td>5453</td>\n",
       "      <td>1724</td>\n",
       "      <td>383</td>\n",
       "      <td>1412</td>\n",
       "      <td>16</td>\n",
       "      <td>197</td>\n",
       "    </tr>\n",
       "  </tbody>\n",
       "</table>\n",
       "</div>"
      ],
      "text/plain": [
       "           date  day  aircraft  helicopter  tank   APC  field artillery  MRL  \\\n",
       "243  2022-10-26  245       271         248  2628  5351             1686  379   \n",
       "244  2022-10-27  246       271         249  2631  5364             1690  379   \n",
       "245  2022-10-28  247       272         251  2640  5378             1698  379   \n",
       "246  2022-10-29  248       273         252  2659  5401             1708  380   \n",
       "247  2022-10-30  249       274         252  2672  5453             1724  383   \n",
       "\n",
       "     drone  naval ship  anti-aircraft warfare  \n",
       "243   1379          16                    192  \n",
       "244   1398          16                    192  \n",
       "245   1401          16                    192  \n",
       "246   1406          16                    195  \n",
       "247   1412          16                    197  "
      ]
     },
     "execution_count": 4,
     "metadata": {},
     "output_type": "execute_result"
    }
   ],
   "source": [
    "df.tail()"
   ]
  },
  {
   "cell_type": "code",
   "execution_count": 5,
   "id": "e69d71aa",
   "metadata": {},
   "outputs": [],
   "source": [
    "# datum=df[[\"date\"]]"
   ]
  },
  {
   "cell_type": "code",
   "execution_count": 7,
   "id": "cac7f7fc",
   "metadata": {},
   "outputs": [],
   "source": [
    "# pd.to_datetime(datum)"
   ]
  },
  {
   "cell_type": "code",
   "execution_count": 9,
   "id": "ad475a19",
   "metadata": {},
   "outputs": [],
   "source": [
    "# datum"
   ]
  },
  {
   "cell_type": "code",
   "execution_count": 10,
   "id": "9c361bb6",
   "metadata": {},
   "outputs": [],
   "source": [
    "# type(datum)"
   ]
  },
  {
   "cell_type": "code",
   "execution_count": 66,
   "id": "be017ee6",
   "metadata": {},
   "outputs": [
    {
     "name": "stderr",
     "output_type": "stream",
     "text": [
      "C:\\Users\\User\\anaconda3\\lib\\site-packages\\sklearn\\linear_model\\_base.py:141: FutureWarning: 'normalize' was deprecated in version 1.0 and will be removed in 1.2.\n",
      "If you wish to scale the data, use Pipeline with a StandardScaler in a preprocessing stage. To reproduce the previous behavior:\n",
      "\n",
      "from sklearn.pipeline import make_pipeline\n",
      "\n",
      "model = make_pipeline(StandardScaler(with_mean=False), LinearRegression())\n",
      "\n",
      "If you wish to pass a sample_weight parameter, you need to pass it as a fit parameter to each step of the pipeline as follows:\n",
      "\n",
      "kwargs = {s[0] + '__sample_weight': sample_weight for s in model.steps}\n",
      "model.fit(X, y, **kwargs)\n",
      "\n",
      "\n",
      "  warnings.warn(\n"
     ]
    },
    {
     "data": {
      "text/plain": [
       "LinearRegression(normalize=True)"
      ]
     },
     "execution_count": 66,
     "metadata": {},
     "output_type": "execute_result"
    }
   ],
   "source": [
    "from sklearn.svm import SVC\n",
    "from sklearn.tree import DecisionTreeClassifier\n",
    "from sklearn.neighbors import KNeighborsClassifier\n",
    "from sklearn.preprocessing import MinMaxScaler,OneHotEncoder\n",
    "from sklearn.pipeline import make_pipeline\n",
    "from sklearn.model_selection import KFold,GridSearchCV,train_test_split,RepeatedKFold\n",
    "from sklearn.compose import ColumnTransformer\n",
    "from sklearn.linear_model import LogisticRegression,LinearRegression\n",
    "y=df[[\"aircraft\",\"helicopter\",\"tank\",\"APC\"]]\n",
    "# y=datum\n",
    "X=df[[\"day\"]]\n",
    "# cf=ColumnTransformer([\n",
    "#     (\"date\",OneHotEncoder(),[\"date\"])\n",
    "# ],remainder='passthrough')\n",
    "# cf.fit(y)\n",
    "# y_transformed=cf.transform(y)\n",
    "X_train,X_test,y_train,y_test=train_test_split(X,y,train_size=0.75,shuffle=True,random_state=10)\n",
    "\n",
    "model=KNeighborsClassifier(algorithm=\"ball_tree\",n_jobs=2)\n",
    "model=LinearRegression(normalize=True)\n",
    "\n",
    "model.fit(X_train,y_train)"
   ]
  },
  {
   "cell_type": "code",
   "execution_count": 67,
   "id": "9178fd4d",
   "metadata": {},
   "outputs": [
    {
     "name": "stdout",
     "output_type": "stream",
     "text": [
      "0.9020163283987873\n"
     ]
    }
   ],
   "source": [
    "print(model.score(X_train,y_train))"
   ]
  },
  {
   "cell_type": "code",
   "execution_count": 68,
   "id": "85df113e",
   "metadata": {},
   "outputs": [
    {
     "name": "stdout",
     "output_type": "stream",
     "text": [
      "0.8900969206317084\n"
     ]
    }
   ],
   "source": [
    "print(model.score(X_test,y_test))"
   ]
  },
  {
   "cell_type": "code",
   "execution_count": 87,
   "id": "9edbf87c",
   "metadata": {},
   "outputs": [],
   "source": [
    "X_pred=pd.DataFrame([[75],[200],[300],[365]],columns=[\"day_equi_losses\"])"
   ]
  },
  {
   "cell_type": "code",
   "execution_count": null,
   "id": "36306751",
   "metadata": {},
   "outputs": [],
   "source": []
  },
  {
   "cell_type": "code",
   "execution_count": 88,
   "id": "139ded20",
   "metadata": {},
   "outputs": [
    {
     "name": "stderr",
     "output_type": "stream",
     "text": [
      "C:\\Users\\User\\anaconda3\\lib\\site-packages\\sklearn\\base.py:493: FutureWarning: The feature names should match those that were passed during fit. Starting version 1.2, an error will be raised.\n",
      "Feature names unseen at fit time:\n",
      "- day_equi_losses\n",
      "Feature names seen at fit time, yet now missing:\n",
      "- day\n",
      "\n",
      "  warnings.warn(message, FutureWarning)\n"
     ]
    }
   ],
   "source": [
    "resultsdays=model.predict(X_pred)"
   ]
  },
  {
   "cell_type": "code",
   "execution_count": 89,
   "id": "b7016bde",
   "metadata": {},
   "outputs": [],
   "source": [
    "resultdays_df=pd.DataFrame(resultsdays,columns=[\"aircraft\",\"helicopter\",\"tank\",\"APC\"])"
   ]
  },
  {
   "cell_type": "code",
   "execution_count": 90,
   "id": "08888480",
   "metadata": {},
   "outputs": [
    {
     "data": {
      "text/html": [
       "<div>\n",
       "<style scoped>\n",
       "    .dataframe tbody tr th:only-of-type {\n",
       "        vertical-align: middle;\n",
       "    }\n",
       "\n",
       "    .dataframe tbody tr th {\n",
       "        vertical-align: top;\n",
       "    }\n",
       "\n",
       "    .dataframe thead th {\n",
       "        text-align: right;\n",
       "    }\n",
       "</style>\n",
       "<table border=\"1\" class=\"dataframe\">\n",
       "  <thead>\n",
       "    <tr style=\"text-align: right;\">\n",
       "      <th></th>\n",
       "      <th>aircraft</th>\n",
       "      <th>helicopter</th>\n",
       "      <th>tank</th>\n",
       "      <th>APC</th>\n",
       "    </tr>\n",
       "  </thead>\n",
       "  <tbody>\n",
       "    <tr>\n",
       "      <th>0</th>\n",
       "      <td>160.606986</td>\n",
       "      <td>143.016103</td>\n",
       "      <td>1013.090510</td>\n",
       "      <td>2530.239353</td>\n",
       "    </tr>\n",
       "    <tr>\n",
       "      <th>1</th>\n",
       "      <td>255.929395</td>\n",
       "      <td>220.910125</td>\n",
       "      <td>2194.413982</td>\n",
       "      <td>4719.131943</td>\n",
       "    </tr>\n",
       "    <tr>\n",
       "      <th>2</th>\n",
       "      <td>332.187323</td>\n",
       "      <td>283.225343</td>\n",
       "      <td>3139.472760</td>\n",
       "      <td>6470.246015</td>\n",
       "    </tr>\n",
       "    <tr>\n",
       "      <th>3</th>\n",
       "      <td>381.754976</td>\n",
       "      <td>323.730235</td>\n",
       "      <td>3753.760965</td>\n",
       "      <td>7608.470162</td>\n",
       "    </tr>\n",
       "  </tbody>\n",
       "</table>\n",
       "</div>"
      ],
      "text/plain": [
       "     aircraft  helicopter         tank          APC\n",
       "0  160.606986  143.016103  1013.090510  2530.239353\n",
       "1  255.929395  220.910125  2194.413982  4719.131943\n",
       "2  332.187323  283.225343  3139.472760  6470.246015\n",
       "3  381.754976  323.730235  3753.760965  7608.470162"
      ]
     },
     "execution_count": 90,
     "metadata": {},
     "output_type": "execute_result"
    }
   ],
   "source": [
    "resultdays_df"
   ]
  },
  {
   "cell_type": "code",
   "execution_count": 91,
   "id": "fa36a8e6",
   "metadata": {},
   "outputs": [],
   "source": [
    "result_complete_df=pd.concat([X_pred,resultdays_df],axis=1)"
   ]
  },
  {
   "cell_type": "code",
   "execution_count": 92,
   "id": "f9c9d1e7",
   "metadata": {},
   "outputs": [
    {
     "data": {
      "text/html": [
       "<div>\n",
       "<style scoped>\n",
       "    .dataframe tbody tr th:only-of-type {\n",
       "        vertical-align: middle;\n",
       "    }\n",
       "\n",
       "    .dataframe tbody tr th {\n",
       "        vertical-align: top;\n",
       "    }\n",
       "\n",
       "    .dataframe thead th {\n",
       "        text-align: right;\n",
       "    }\n",
       "</style>\n",
       "<table border=\"1\" class=\"dataframe\">\n",
       "  <thead>\n",
       "    <tr style=\"text-align: right;\">\n",
       "      <th></th>\n",
       "      <th>day_equi_losses</th>\n",
       "      <th>aircraft</th>\n",
       "      <th>helicopter</th>\n",
       "      <th>tank</th>\n",
       "      <th>APC</th>\n",
       "    </tr>\n",
       "  </thead>\n",
       "  <tbody>\n",
       "    <tr>\n",
       "      <th>0</th>\n",
       "      <td>75</td>\n",
       "      <td>160.606986</td>\n",
       "      <td>143.016103</td>\n",
       "      <td>1013.090510</td>\n",
       "      <td>2530.239353</td>\n",
       "    </tr>\n",
       "    <tr>\n",
       "      <th>1</th>\n",
       "      <td>200</td>\n",
       "      <td>255.929395</td>\n",
       "      <td>220.910125</td>\n",
       "      <td>2194.413982</td>\n",
       "      <td>4719.131943</td>\n",
       "    </tr>\n",
       "    <tr>\n",
       "      <th>2</th>\n",
       "      <td>300</td>\n",
       "      <td>332.187323</td>\n",
       "      <td>283.225343</td>\n",
       "      <td>3139.472760</td>\n",
       "      <td>6470.246015</td>\n",
       "    </tr>\n",
       "    <tr>\n",
       "      <th>3</th>\n",
       "      <td>365</td>\n",
       "      <td>381.754976</td>\n",
       "      <td>323.730235</td>\n",
       "      <td>3753.760965</td>\n",
       "      <td>7608.470162</td>\n",
       "    </tr>\n",
       "  </tbody>\n",
       "</table>\n",
       "</div>"
      ],
      "text/plain": [
       "   day_equi_losses    aircraft  helicopter         tank          APC\n",
       "0               75  160.606986  143.016103  1013.090510  2530.239353\n",
       "1              200  255.929395  220.910125  2194.413982  4719.131943\n",
       "2              300  332.187323  283.225343  3139.472760  6470.246015\n",
       "3              365  381.754976  323.730235  3753.760965  7608.470162"
      ]
     },
     "execution_count": 92,
     "metadata": {},
     "output_type": "execute_result"
    }
   ],
   "source": [
    "result_complete_df"
   ]
  },
  {
   "cell_type": "code",
   "execution_count": 82,
   "id": "f7302edb",
   "metadata": {},
   "outputs": [
    {
     "data": {
      "text/html": [
       "<div>\n",
       "<style scoped>\n",
       "    .dataframe tbody tr th:only-of-type {\n",
       "        vertical-align: middle;\n",
       "    }\n",
       "\n",
       "    .dataframe tbody tr th {\n",
       "        vertical-align: top;\n",
       "    }\n",
       "\n",
       "    .dataframe thead th {\n",
       "        text-align: right;\n",
       "    }\n",
       "</style>\n",
       "<table border=\"1\" class=\"dataframe\">\n",
       "  <thead>\n",
       "    <tr style=\"text-align: right;\">\n",
       "      <th></th>\n",
       "      <th>day_equi_losses</th>\n",
       "      <th>aircraft</th>\n",
       "      <th>helicopter</th>\n",
       "      <th>tank</th>\n",
       "      <th>APC</th>\n",
       "    </tr>\n",
       "  </thead>\n",
       "  <tbody>\n",
       "    <tr>\n",
       "      <th>day_equi_losses</th>\n",
       "      <td>1.0</td>\n",
       "      <td>1.0</td>\n",
       "      <td>1.0</td>\n",
       "      <td>1.0</td>\n",
       "      <td>1.0</td>\n",
       "    </tr>\n",
       "    <tr>\n",
       "      <th>aircraft</th>\n",
       "      <td>1.0</td>\n",
       "      <td>1.0</td>\n",
       "      <td>1.0</td>\n",
       "      <td>1.0</td>\n",
       "      <td>1.0</td>\n",
       "    </tr>\n",
       "    <tr>\n",
       "      <th>helicopter</th>\n",
       "      <td>1.0</td>\n",
       "      <td>1.0</td>\n",
       "      <td>1.0</td>\n",
       "      <td>1.0</td>\n",
       "      <td>1.0</td>\n",
       "    </tr>\n",
       "    <tr>\n",
       "      <th>tank</th>\n",
       "      <td>1.0</td>\n",
       "      <td>1.0</td>\n",
       "      <td>1.0</td>\n",
       "      <td>1.0</td>\n",
       "      <td>1.0</td>\n",
       "    </tr>\n",
       "    <tr>\n",
       "      <th>APC</th>\n",
       "      <td>1.0</td>\n",
       "      <td>1.0</td>\n",
       "      <td>1.0</td>\n",
       "      <td>1.0</td>\n",
       "      <td>1.0</td>\n",
       "    </tr>\n",
       "  </tbody>\n",
       "</table>\n",
       "</div>"
      ],
      "text/plain": [
       "                 day_equi_losses  aircraft  helicopter  tank  APC\n",
       "day_equi_losses              1.0       1.0         1.0   1.0  1.0\n",
       "aircraft                     1.0       1.0         1.0   1.0  1.0\n",
       "helicopter                   1.0       1.0         1.0   1.0  1.0\n",
       "tank                         1.0       1.0         1.0   1.0  1.0\n",
       "APC                          1.0       1.0         1.0   1.0  1.0"
      ]
     },
     "execution_count": 82,
     "metadata": {},
     "output_type": "execute_result"
    }
   ],
   "source": [
    "result_complete_df.corr()"
   ]
  },
  {
   "cell_type": "code",
   "execution_count": 80,
   "id": "4aec506a",
   "metadata": {},
   "outputs": [
    {
     "data": {
      "image/png": "[encoded data removed]",
      "text/plain": [
       "<Figure size 1440x1296 with 1 Axes>"
      ]
     },
     "metadata": {
      "needs_background": "light"
     },
     "output_type": "display_data"
    }
   ],
   "source": [
    "plt.figure(figsize=(20,18))\n",
    "ax=sns.lineplot(x=result_complete_df[\"day_equi_losses\"]\n",
    "        ,y=result_complete_df[\"aircraft\"],color=\"red\")\n",
    "sns.scatterplot(x=\"day\",y=\"aircraft\",data=df,ax=ax)\n",
    "plt.show()"
   ]
  },
  {
   "cell_type": "markdown",
   "id": "2f6a567d",
   "metadata": {},
   "source": [
    "# Train with TF2"
   ]
  },
  {
   "cell_type": "code",
   "execution_count": 154,
   "id": "f4b51c30",
   "metadata": {},
   "outputs": [],
   "source": [
    "y_tf=df[\"aircraft\"]\n",
    "# y=datum\n",
    "X_2=df[\"day\"]"
   ]
  },
  {
   "cell_type": "code",
   "execution_count": 155,
   "id": "a94f7fd8",
   "metadata": {},
   "outputs": [],
   "source": [
    "X_tf2_train,X_tf2_test,y_tf2_train,y_tf2_test=train_test_split(\n",
    "        X_2,y_tf,train_size=0.75\n",
    "\n",
    ")\n",
    "\n",
    "# X_tf2_train,X_tf2_test,y_tf2_train,y_tf2_test=train_test_split(\n",
    "#         X_train,y_train,\n",
    "#     train_size=0.75\n",
    "\n",
    "# )"
   ]
  },
  {
   "cell_type": "code",
   "execution_count": null,
   "id": "a8ff745c",
   "metadata": {},
   "outputs": [],
   "source": []
  },
  {
   "cell_type": "code",
   "execution_count": null,
   "id": "cbe11fb9",
   "metadata": {},
   "outputs": [],
   "source": []
  },
  {
   "cell_type": "code",
   "execution_count": null,
   "id": "5b5989be",
   "metadata": {},
   "outputs": [],
   "source": []
  },
  {
   "cell_type": "code",
   "execution_count": null,
   "id": "230099c1",
   "metadata": {},
   "outputs": [],
   "source": []
  },
  {
   "cell_type": "markdown",
   "id": "56d8a181",
   "metadata": {},
   "source": [
    "## TF2 Tries"
   ]
  },
  {
   "cell_type": "code",
   "execution_count": 156,
   "id": "d8242cfb",
   "metadata": {},
   "outputs": [
    {
     "name": "stdout",
     "output_type": "stream",
     "text": [
      "Epoch 1/10\n",
      "2/2 [==============================] - 2s 9ms/step - loss: 2080.5188 - accuracy: 0.0000e+00\n",
      "Epoch 2/10\n",
      "2/2 [==============================] - 0s 9ms/step - loss: 1430.7875 - accuracy: 0.0000e+00\n",
      "Epoch 3/10\n",
      "2/2 [==============================] - 0s 9ms/step - loss: 1082.7103 - accuracy: 0.0000e+00\n",
      "Epoch 4/10\n",
      "2/2 [==============================] - 0s 5ms/step - loss: 1064.0190 - accuracy: 0.0000e+00\n",
      "Epoch 5/10\n",
      "2/2 [==============================] - 0s 4ms/step - loss: 1047.6389 - accuracy: 0.0000e+00\n",
      "Epoch 6/10\n",
      "2/2 [==============================] - 0s 6ms/step - loss: 1033.6617 - accuracy: 0.0000e+00\n",
      "Epoch 7/10\n",
      "2/2 [==============================] - 0s 5ms/step - loss: 1011.5854 - accuracy: 0.0000e+00\n",
      "Epoch 8/10\n",
      "2/2 [==============================] - 0s 5ms/step - loss: 978.6516 - accuracy: 0.0000e+00\n",
      "Epoch 9/10\n",
      "2/2 [==============================] - 0s 4ms/step - loss: 856.3068 - accuracy: 0.0000e+00\n",
      "Epoch 10/10\n",
      "2/2 [==============================] - 0s 8ms/step - loss: 672.6554 - accuracy: 0.0000e+00\n",
      "Model: \"sequential_39\"\n",
      "_________________________________________________________________\n",
      " Layer (type)                Output Shape              Param #   \n",
      "=================================================================\n",
      " dense_149 (Dense)           (None, 100)               200       \n",
      "                                                                 \n",
      " dense_150 (Dense)           (None, 18)                1818      \n",
      "                                                                 \n",
      " dense_151 (Dense)           (None, 14)                266       \n",
      "                                                                 \n",
      " dense_152 (Dense)           (None, 10)                150       \n",
      "                                                                 \n",
      "=================================================================\n",
      "Total params: 2,434\n",
      "Trainable params: 2,434\n",
      "Non-trainable params: 0\n",
      "_________________________________________________________________\n"
     ]
    }
   ],
   "source": [
    "from tensorflow.keras.models import Sequential\n",
    "from tensorflow.keras.layers import Dense,Softmax\n",
    "\n",
    "model=Sequential()\n",
    "model.add(Dense(100,activation=\"sigmoid\"))\n",
    "model.add(Dense(18,activation=\"relu\"))\n",
    "model.add(Dense(14,activation=\"relu\"))\n",
    "model.add(Dense(10,activation=\"relu\"))\n",
    "\n",
    "try:\n",
    "    model.compile(\n",
    "\n",
    "        optimizer=\"rmsprop\",loss='binary_crossentropy',\n",
    "        metrics=[\"accuracy\"]\n",
    "\n",
    "    )\n",
    "   \n",
    "\n",
    "    model.fit(X_tf2_train,y_tf2_train,batch_size=128, \n",
    "              epochs=10)\n",
    "    model.summary()\n",
    "except Exception as e:\n",
    "    print(e.args)\n",
    "\n"
   ]
  },
  {
   "cell_type": "code",
   "execution_count": 162,
   "id": "7483df4a",
   "metadata": {},
   "outputs": [],
   "source": [
    "plotHistory=pd.DataFrame(model.history.history)"
   ]
  },
  {
   "cell_type": "code",
   "execution_count": 164,
   "id": "402f02c1",
   "metadata": {},
   "outputs": [
    {
     "data": {
      "text/html": [
       "<div>\n",
       "<style scoped>\n",
       "    .dataframe tbody tr th:only-of-type {\n",
       "        vertical-align: middle;\n",
       "    }\n",
       "\n",
       "    .dataframe tbody tr th {\n",
       "        vertical-align: top;\n",
       "    }\n",
       "\n",
       "    .dataframe thead th {\n",
       "        text-align: right;\n",
       "    }\n",
       "</style>\n",
       "<table border=\"1\" class=\"dataframe\">\n",
       "  <thead>\n",
       "    <tr style=\"text-align: right;\">\n",
       "      <th></th>\n",
       "    </tr>\n",
       "  </thead>\n",
       "  <tbody>\n",
       "  </tbody>\n",
       "</table>\n",
       "</div>"
      ],
      "text/plain": [
       "Empty DataFrame\n",
       "Columns: []\n",
       "Index: []"
      ]
     },
     "execution_count": 164,
     "metadata": {},
     "output_type": "execute_result"
    }
   ],
   "source": []
  },
  {
   "cell_type": "code",
   "execution_count": 163,
   "id": "174cd149",
   "metadata": {},
   "outputs": [
    {
     "ename": "TypeError",
     "evalue": "no numeric data to plot",
     "output_type": "error",
     "traceback": [
      "\u001b[1;31m---------------------------------------------------------------------------\u001b[0m",
      "\u001b[1;31mTypeError\u001b[0m                                 Traceback (most recent call last)",
      "Input \u001b[1;32mIn [163]\u001b[0m, in \u001b[0;36m<cell line: 1>\u001b[1;34m()\u001b[0m\n\u001b[1;32m----> 1\u001b[0m \u001b[43mplotHistory\u001b[49m\u001b[38;5;241;43m.\u001b[39;49m\u001b[43mplot\u001b[49m\u001b[43m(\u001b[49m\u001b[43m)\u001b[49m\n",
      "File \u001b[1;32m~\\anaconda3\\lib\\site-packages\\pandas\\plotting\\_core.py:972\u001b[0m, in \u001b[0;36mPlotAccessor.__call__\u001b[1;34m(self, *args, **kwargs)\u001b[0m\n\u001b[0;32m    969\u001b[0m             label_name \u001b[38;5;241m=\u001b[39m label_kw \u001b[38;5;129;01mor\u001b[39;00m data\u001b[38;5;241m.\u001b[39mcolumns\n\u001b[0;32m    970\u001b[0m             data\u001b[38;5;241m.\u001b[39mcolumns \u001b[38;5;241m=\u001b[39m label_name\n\u001b[1;32m--> 972\u001b[0m \u001b[38;5;28;01mreturn\u001b[39;00m plot_backend\u001b[38;5;241m.\u001b[39mplot(data, kind\u001b[38;5;241m=\u001b[39mkind, \u001b[38;5;241m*\u001b[39m\u001b[38;5;241m*\u001b[39mkwargs)\n",
      "File \u001b[1;32m~\\anaconda3\\lib\\site-packages\\pandas\\plotting\\_matplotlib\\__init__.py:71\u001b[0m, in \u001b[0;36mplot\u001b[1;34m(data, kind, **kwargs)\u001b[0m\n\u001b[0;32m     69\u001b[0m         kwargs[\u001b[38;5;124m\"\u001b[39m\u001b[38;5;124max\u001b[39m\u001b[38;5;124m\"\u001b[39m] \u001b[38;5;241m=\u001b[39m \u001b[38;5;28mgetattr\u001b[39m(ax, \u001b[38;5;124m\"\u001b[39m\u001b[38;5;124mleft_ax\u001b[39m\u001b[38;5;124m\"\u001b[39m, ax)\n\u001b[0;32m     70\u001b[0m plot_obj \u001b[38;5;241m=\u001b[39m PLOT_CLASSES[kind](data, \u001b[38;5;241m*\u001b[39m\u001b[38;5;241m*\u001b[39mkwargs)\n\u001b[1;32m---> 71\u001b[0m \u001b[43mplot_obj\u001b[49m\u001b[38;5;241;43m.\u001b[39;49m\u001b[43mgenerate\u001b[49m\u001b[43m(\u001b[49m\u001b[43m)\u001b[49m\n\u001b[0;32m     72\u001b[0m plot_obj\u001b[38;5;241m.\u001b[39mdraw()\n\u001b[0;32m     73\u001b[0m \u001b[38;5;28;01mreturn\u001b[39;00m plot_obj\u001b[38;5;241m.\u001b[39mresult\n",
      "File \u001b[1;32m~\\anaconda3\\lib\\site-packages\\pandas\\plotting\\_matplotlib\\core.py:327\u001b[0m, in \u001b[0;36mMPLPlot.generate\u001b[1;34m(self)\u001b[0m\n\u001b[0;32m    325\u001b[0m \u001b[38;5;28;01mdef\u001b[39;00m \u001b[38;5;21mgenerate\u001b[39m(\u001b[38;5;28mself\u001b[39m):\n\u001b[0;32m    326\u001b[0m     \u001b[38;5;28mself\u001b[39m\u001b[38;5;241m.\u001b[39m_args_adjust()\n\u001b[1;32m--> 327\u001b[0m     \u001b[38;5;28;43mself\u001b[39;49m\u001b[38;5;241;43m.\u001b[39;49m\u001b[43m_compute_plot_data\u001b[49m\u001b[43m(\u001b[49m\u001b[43m)\u001b[49m\n\u001b[0;32m    328\u001b[0m     \u001b[38;5;28mself\u001b[39m\u001b[38;5;241m.\u001b[39m_setup_subplots()\n\u001b[0;32m    329\u001b[0m     \u001b[38;5;28mself\u001b[39m\u001b[38;5;241m.\u001b[39m_make_plot()\n",
      "File \u001b[1;32m~\\anaconda3\\lib\\site-packages\\pandas\\plotting\\_matplotlib\\core.py:506\u001b[0m, in \u001b[0;36mMPLPlot._compute_plot_data\u001b[1;34m(self)\u001b[0m\n\u001b[0;32m    504\u001b[0m \u001b[38;5;66;03m# no non-numeric frames or series allowed\u001b[39;00m\n\u001b[0;32m    505\u001b[0m \u001b[38;5;28;01mif\u001b[39;00m is_empty:\n\u001b[1;32m--> 506\u001b[0m     \u001b[38;5;28;01mraise\u001b[39;00m \u001b[38;5;167;01mTypeError\u001b[39;00m(\u001b[38;5;124m\"\u001b[39m\u001b[38;5;124mno numeric data to plot\u001b[39m\u001b[38;5;124m\"\u001b[39m)\n\u001b[0;32m    508\u001b[0m \u001b[38;5;28mself\u001b[39m\u001b[38;5;241m.\u001b[39mdata \u001b[38;5;241m=\u001b[39m numeric_data\u001b[38;5;241m.\u001b[39mapply(\u001b[38;5;28mself\u001b[39m\u001b[38;5;241m.\u001b[39m_convert_to_ndarray)\n",
      "\u001b[1;31mTypeError\u001b[0m: no numeric data to plot"
     ]
    }
   ],
   "source": [
    "plotHistory.plot()"
   ]
  },
  {
   "cell_type": "code",
   "execution_count": 157,
   "id": "fc47334a",
   "metadata": {},
   "outputs": [
    {
     "name": "stdout",
     "output_type": "stream",
     "text": [
      "6/6 [==============================] - 0s 3ms/step - loss: 649.9301 - accuracy: 0.0000e+00\n"
     ]
    },
    {
     "data": {
      "text/plain": [
       "[649.9300537109375, 0.0]"
      ]
     },
     "execution_count": 157,
     "metadata": {},
     "output_type": "execute_result"
    }
   ],
   "source": [
    "model.evaluate(X_tf2_train,y_tf2_train)"
   ]
  },
  {
   "cell_type": "code",
   "execution_count": 158,
   "id": "e8885b33",
   "metadata": {},
   "outputs": [
    {
     "name": "stdout",
     "output_type": "stream",
     "text": [
      "1/1 [==============================] - 0s 203ms/step\n"
     ]
    },
    {
     "data": {
      "text/plain": [
       "array([[0.        , 0.5099027 , 0.15207116, 0.        , 0.        ,\n",
       "        0.59253585, 0.2842391 , 0.7648712 , 1.1154556 , 0.51655704]],\n",
       "      dtype=float32)"
      ]
     },
     "execution_count": 158,
     "metadata": {},
     "output_type": "execute_result"
    }
   ],
   "source": [
    "model.predict([[200]])"
   ]
  },
  {
   "cell_type": "markdown",
   "id": "fdd9cdcd",
   "metadata": {},
   "source": [
    "## Change Log\n",
    "\n",
    "| Date (YYYY-MM-DD) | Version | Changed By    | Change Description          |\n",
    "| ----------------- | ------- | ------------- | --------------------------- |\n",
    "| 2023-02-19        | 1.0     | Mohamed Belhedi |This Notebook |\n",
    "\n",
    "<hr>\n",
    "\n",
    "## <h3 align=\"center\"> © Mohamed Belhedi 2023<h3/>\n",
    " <p><b>By the Way this Notebook was not made,to put a Political \n",
    "       Statment and take a side or Position in this Conflict/War, i´m\n",
    "        neutral and behind any war there is no Solution, at the end who are the loser in this war? Only the Civilian who lost their Families or their own lives. We pray for Freedom for both sides.\n",
    "        This Notebook made for Educational Purposes\n",
    "     Thank you</b> </p>"
   ]
  },
  {
   "cell_type": "code",
   "execution_count": null,
   "id": "a0228f3b",
   "metadata": {},
   "outputs": [],
   "source": []
  }
 ],
 "metadata": {
  "kernelspec": {
   "display_name": "Python 3 (ipykernel)",
   "language": "python",
   "name": "python3"
  },
  "language_info": {
   "codemirror_mode": {
    "name": "ipython",
    "version": 3
   },
   "file_extension": ".py",
   "mimetype": "text/x-python",
   "name": "python",
   "nbconvert_exporter": "python",
   "pygments_lexer": "ipython3",
   "version": "3.9.12"
  }
 },
 "nbformat": 4,
 "nbformat_minor": 5
}
