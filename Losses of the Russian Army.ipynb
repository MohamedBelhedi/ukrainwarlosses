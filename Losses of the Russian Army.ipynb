{
 "cells": [
  {
   "cell_type": "code",
   "execution_count": 24,
   "id": "11ab27ed",
   "metadata": {},
   "outputs": [],
   "source": [
    "import matplotlib.pyplot as plt\n",
    "import numpy as np\n",
    "import pandas as pd\n",
    "import seaborn as sns\n",
    "import datetime"
   ]
  },
  {
   "cell_type": "code",
   "execution_count": 25,
   "id": "7f8db22a",
   "metadata": {},
   "outputs": [],
   "source": [
    "file='./russia_losses_equipment.csv'\n",
    "df=pd.read_csv(file)"
   ]
  },
  {
   "cell_type": "code",
   "execution_count": 26,
   "id": "5b9c6e99",
   "metadata": {},
   "outputs": [],
   "source": [
    "df.head() \n",
    "df=df.dropna(axis=1)"
   ]
  },
  {
   "cell_type": "code",
   "execution_count": 27,
   "id": "e8253209",
   "metadata": {},
   "outputs": [
    {
     "data": {
      "text/html": [
       "<div>\n",
       "<style scoped>\n",
       "    .dataframe tbody tr th:only-of-type {\n",
       "        vertical-align: middle;\n",
       "    }\n",
       "\n",
       "    .dataframe tbody tr th {\n",
       "        vertical-align: top;\n",
       "    }\n",
       "\n",
       "    .dataframe thead th {\n",
       "        text-align: right;\n",
       "    }\n",
       "</style>\n",
       "<table border=\"1\" class=\"dataframe\">\n",
       "  <thead>\n",
       "    <tr style=\"text-align: right;\">\n",
       "      <th></th>\n",
       "      <th>date</th>\n",
       "      <th>day</th>\n",
       "      <th>aircraft</th>\n",
       "      <th>helicopter</th>\n",
       "      <th>tank</th>\n",
       "      <th>APC</th>\n",
       "      <th>field artillery</th>\n",
       "      <th>MRL</th>\n",
       "      <th>drone</th>\n",
       "      <th>naval ship</th>\n",
       "      <th>anti-aircraft warfare</th>\n",
       "    </tr>\n",
       "  </thead>\n",
       "  <tbody>\n",
       "    <tr>\n",
       "      <th>243</th>\n",
       "      <td>2022-10-26</td>\n",
       "      <td>245</td>\n",
       "      <td>271</td>\n",
       "      <td>248</td>\n",
       "      <td>2628</td>\n",
       "      <td>5351</td>\n",
       "      <td>1686</td>\n",
       "      <td>379</td>\n",
       "      <td>1379</td>\n",
       "      <td>16</td>\n",
       "      <td>192</td>\n",
       "    </tr>\n",
       "    <tr>\n",
       "      <th>244</th>\n",
       "      <td>2022-10-27</td>\n",
       "      <td>246</td>\n",
       "      <td>271</td>\n",
       "      <td>249</td>\n",
       "      <td>2631</td>\n",
       "      <td>5364</td>\n",
       "      <td>1690</td>\n",
       "      <td>379</td>\n",
       "      <td>1398</td>\n",
       "      <td>16</td>\n",
       "      <td>192</td>\n",
       "    </tr>\n",
       "    <tr>\n",
       "      <th>245</th>\n",
       "      <td>2022-10-28</td>\n",
       "      <td>247</td>\n",
       "      <td>272</td>\n",
       "      <td>251</td>\n",
       "      <td>2640</td>\n",
       "      <td>5378</td>\n",
       "      <td>1698</td>\n",
       "      <td>379</td>\n",
       "      <td>1401</td>\n",
       "      <td>16</td>\n",
       "      <td>192</td>\n",
       "    </tr>\n",
       "    <tr>\n",
       "      <th>246</th>\n",
       "      <td>2022-10-29</td>\n",
       "      <td>248</td>\n",
       "      <td>273</td>\n",
       "      <td>252</td>\n",
       "      <td>2659</td>\n",
       "      <td>5401</td>\n",
       "      <td>1708</td>\n",
       "      <td>380</td>\n",
       "      <td>1406</td>\n",
       "      <td>16</td>\n",
       "      <td>195</td>\n",
       "    </tr>\n",
       "    <tr>\n",
       "      <th>247</th>\n",
       "      <td>2022-10-30</td>\n",
       "      <td>249</td>\n",
       "      <td>274</td>\n",
       "      <td>252</td>\n",
       "      <td>2672</td>\n",
       "      <td>5453</td>\n",
       "      <td>1724</td>\n",
       "      <td>383</td>\n",
       "      <td>1412</td>\n",
       "      <td>16</td>\n",
       "      <td>197</td>\n",
       "    </tr>\n",
       "  </tbody>\n",
       "</table>\n",
       "</div>"
      ],
      "text/plain": [
       "           date  day  aircraft  helicopter  tank   APC  field artillery  MRL  \\\n",
       "243  2022-10-26  245       271         248  2628  5351             1686  379   \n",
       "244  2022-10-27  246       271         249  2631  5364             1690  379   \n",
       "245  2022-10-28  247       272         251  2640  5378             1698  379   \n",
       "246  2022-10-29  248       273         252  2659  5401             1708  380   \n",
       "247  2022-10-30  249       274         252  2672  5453             1724  383   \n",
       "\n",
       "     drone  naval ship  anti-aircraft warfare  \n",
       "243   1379          16                    192  \n",
       "244   1398          16                    192  \n",
       "245   1401          16                    192  \n",
       "246   1406          16                    195  \n",
       "247   1412          16                    197  "
      ]
     },
     "execution_count": 27,
     "metadata": {},
     "output_type": "execute_result"
    }
   ],
   "source": [
    "df.tail()"
   ]
  },
  {
   "cell_type": "code",
   "execution_count": 13,
   "id": "e69d71aa",
   "metadata": {},
   "outputs": [],
   "source": [
    "datum=df[[\"date\"]]"
   ]
  },
  {
   "cell_type": "code",
   "execution_count": 14,
   "id": "cac7f7fc",
   "metadata": {},
   "outputs": [
    {
     "ename": "ValueError",
     "evalue": "to assemble mappings requires at least that [year, month, day] be specified: [day,month,year] is missing",
     "output_type": "error",
     "traceback": [
      "\u001b[1;31m---------------------------------------------------------------------------\u001b[0m",
      "\u001b[1;31mValueError\u001b[0m                                Traceback (most recent call last)",
      "Input \u001b[1;32mIn [14]\u001b[0m, in \u001b[0;36m<cell line: 1>\u001b[1;34m()\u001b[0m\n\u001b[1;32m----> 1\u001b[0m \u001b[43mpd\u001b[49m\u001b[38;5;241;43m.\u001b[39;49m\u001b[43mto_datetime\u001b[49m\u001b[43m(\u001b[49m\u001b[43mdatum\u001b[49m\u001b[43m)\u001b[49m\n",
      "File \u001b[1;32m~\\anaconda3\\lib\\site-packages\\pandas\\core\\tools\\datetimes.py:1054\u001b[0m, in \u001b[0;36mto_datetime\u001b[1;34m(arg, errors, dayfirst, yearfirst, utc, format, exact, unit, infer_datetime_format, origin, cache)\u001b[0m\n\u001b[0;32m   1052\u001b[0m         result \u001b[38;5;241m=\u001b[39m arg\u001b[38;5;241m.\u001b[39m_constructor(values, index\u001b[38;5;241m=\u001b[39marg\u001b[38;5;241m.\u001b[39mindex, name\u001b[38;5;241m=\u001b[39marg\u001b[38;5;241m.\u001b[39mname)\n\u001b[0;32m   1053\u001b[0m \u001b[38;5;28;01melif\u001b[39;00m \u001b[38;5;28misinstance\u001b[39m(arg, (ABCDataFrame, abc\u001b[38;5;241m.\u001b[39mMutableMapping)):\n\u001b[1;32m-> 1054\u001b[0m     result \u001b[38;5;241m=\u001b[39m \u001b[43m_assemble_from_unit_mappings\u001b[49m\u001b[43m(\u001b[49m\u001b[43marg\u001b[49m\u001b[43m,\u001b[49m\u001b[43m \u001b[49m\u001b[43merrors\u001b[49m\u001b[43m,\u001b[49m\u001b[43m \u001b[49m\u001b[43mtz\u001b[49m\u001b[43m)\u001b[49m\n\u001b[0;32m   1055\u001b[0m \u001b[38;5;28;01melif\u001b[39;00m \u001b[38;5;28misinstance\u001b[39m(arg, Index):\n\u001b[0;32m   1056\u001b[0m     cache_array \u001b[38;5;241m=\u001b[39m _maybe_cache(arg, \u001b[38;5;28mformat\u001b[39m, cache, convert_listlike)\n",
      "File \u001b[1;32m~\\anaconda3\\lib\\site-packages\\pandas\\core\\tools\\datetimes.py:1160\u001b[0m, in \u001b[0;36m_assemble_from_unit_mappings\u001b[1;34m(arg, errors, tz)\u001b[0m\n\u001b[0;32m   1158\u001b[0m \u001b[38;5;28;01mif\u001b[39;00m \u001b[38;5;28mlen\u001b[39m(req):\n\u001b[0;32m   1159\u001b[0m     _required \u001b[38;5;241m=\u001b[39m \u001b[38;5;124m\"\u001b[39m\u001b[38;5;124m,\u001b[39m\u001b[38;5;124m\"\u001b[39m\u001b[38;5;241m.\u001b[39mjoin(req)\n\u001b[1;32m-> 1160\u001b[0m     \u001b[38;5;28;01mraise\u001b[39;00m \u001b[38;5;167;01mValueError\u001b[39;00m(\n\u001b[0;32m   1161\u001b[0m         \u001b[38;5;124m\"\u001b[39m\u001b[38;5;124mto assemble mappings requires at least that \u001b[39m\u001b[38;5;124m\"\u001b[39m\n\u001b[0;32m   1162\u001b[0m         \u001b[38;5;124mf\u001b[39m\u001b[38;5;124m\"\u001b[39m\u001b[38;5;124m[year, month, day] be specified: [\u001b[39m\u001b[38;5;132;01m{\u001b[39;00m_required\u001b[38;5;132;01m}\u001b[39;00m\u001b[38;5;124m] is missing\u001b[39m\u001b[38;5;124m\"\u001b[39m\n\u001b[0;32m   1163\u001b[0m     )\n\u001b[0;32m   1165\u001b[0m \u001b[38;5;66;03m# keys we don't recognize\u001b[39;00m\n\u001b[0;32m   1166\u001b[0m excess \u001b[38;5;241m=\u001b[39m \u001b[38;5;28msorted\u001b[39m(\u001b[38;5;28mset\u001b[39m(unit_rev\u001b[38;5;241m.\u001b[39mkeys()) \u001b[38;5;241m-\u001b[39m \u001b[38;5;28mset\u001b[39m(_unit_map\u001b[38;5;241m.\u001b[39mvalues()))\n",
      "\u001b[1;31mValueError\u001b[0m: to assemble mappings requires at least that [year, month, day] be specified: [day,month,year] is missing"
     ]
    }
   ],
   "source": [
    "pd.to_datetime(datum)"
   ]
  },
  {
   "cell_type": "code",
   "execution_count": 15,
   "id": "ad475a19",
   "metadata": {},
   "outputs": [
    {
     "data": {
      "text/html": [
       "<div>\n",
       "<style scoped>\n",
       "    .dataframe tbody tr th:only-of-type {\n",
       "        vertical-align: middle;\n",
       "    }\n",
       "\n",
       "    .dataframe tbody tr th {\n",
       "        vertical-align: top;\n",
       "    }\n",
       "\n",
       "    .dataframe thead th {\n",
       "        text-align: right;\n",
       "    }\n",
       "</style>\n",
       "<table border=\"1\" class=\"dataframe\">\n",
       "  <thead>\n",
       "    <tr style=\"text-align: right;\">\n",
       "      <th></th>\n",
       "      <th>date</th>\n",
       "    </tr>\n",
       "  </thead>\n",
       "  <tbody>\n",
       "    <tr>\n",
       "      <th>0</th>\n",
       "      <td>2022-02-25</td>\n",
       "    </tr>\n",
       "    <tr>\n",
       "      <th>1</th>\n",
       "      <td>2022-02-26</td>\n",
       "    </tr>\n",
       "    <tr>\n",
       "      <th>2</th>\n",
       "      <td>2022-02-27</td>\n",
       "    </tr>\n",
       "    <tr>\n",
       "      <th>3</th>\n",
       "      <td>2022-02-28</td>\n",
       "    </tr>\n",
       "    <tr>\n",
       "      <th>4</th>\n",
       "      <td>2022-03-01</td>\n",
       "    </tr>\n",
       "    <tr>\n",
       "      <th>...</th>\n",
       "      <td>...</td>\n",
       "    </tr>\n",
       "    <tr>\n",
       "      <th>243</th>\n",
       "      <td>2022-10-26</td>\n",
       "    </tr>\n",
       "    <tr>\n",
       "      <th>244</th>\n",
       "      <td>2022-10-27</td>\n",
       "    </tr>\n",
       "    <tr>\n",
       "      <th>245</th>\n",
       "      <td>2022-10-28</td>\n",
       "    </tr>\n",
       "    <tr>\n",
       "      <th>246</th>\n",
       "      <td>2022-10-29</td>\n",
       "    </tr>\n",
       "    <tr>\n",
       "      <th>247</th>\n",
       "      <td>2022-10-30</td>\n",
       "    </tr>\n",
       "  </tbody>\n",
       "</table>\n",
       "<p>248 rows × 1 columns</p>\n",
       "</div>"
      ],
      "text/plain": [
       "           date\n",
       "0    2022-02-25\n",
       "1    2022-02-26\n",
       "2    2022-02-27\n",
       "3    2022-02-28\n",
       "4    2022-03-01\n",
       "..          ...\n",
       "243  2022-10-26\n",
       "244  2022-10-27\n",
       "245  2022-10-28\n",
       "246  2022-10-29\n",
       "247  2022-10-30\n",
       "\n",
       "[248 rows x 1 columns]"
      ]
     },
     "execution_count": 15,
     "metadata": {},
     "output_type": "execute_result"
    }
   ],
   "source": [
    "datum"
   ]
  },
  {
   "cell_type": "code",
   "execution_count": 18,
   "id": "9c361bb6",
   "metadata": {},
   "outputs": [
    {
     "data": {
      "text/plain": [
       "pandas.core.frame.DataFrame"
      ]
     },
     "execution_count": 18,
     "metadata": {},
     "output_type": "execute_result"
    }
   ],
   "source": [
    "type(datum)"
   ]
  },
  {
   "cell_type": "code",
   "execution_count": 31,
   "id": "be017ee6",
   "metadata": {},
   "outputs": [
    {
     "name": "stderr",
     "output_type": "stream",
     "text": [
      "C:\\Users\\User\\anaconda3\\lib\\site-packages\\sklearn\\linear_model\\_base.py:141: FutureWarning: 'normalize' was deprecated in version 1.0 and will be removed in 1.2.\n",
      "If you wish to scale the data, use Pipeline with a StandardScaler in a preprocessing stage. To reproduce the previous behavior:\n",
      "\n",
      "from sklearn.pipeline import make_pipeline\n",
      "\n",
      "model = make_pipeline(StandardScaler(with_mean=False), LinearRegression())\n",
      "\n",
      "If you wish to pass a sample_weight parameter, you need to pass it as a fit parameter to each step of the pipeline as follows:\n",
      "\n",
      "kwargs = {s[0] + '__sample_weight': sample_weight for s in model.steps}\n",
      "model.fit(X, y, **kwargs)\n",
      "\n",
      "\n",
      "  warnings.warn(\n"
     ]
    },
    {
     "data": {
      "text/plain": [
       "LinearRegression(normalize=True)"
      ]
     },
     "execution_count": 31,
     "metadata": {},
     "output_type": "execute_result"
    }
   ],
   "source": [
    "from sklearn.svm import SVC\n",
    "from sklearn.tree import DecisionTreeClassifier\n",
    "from sklearn.neighbors import KNeighborsClassifier\n",
    "from sklearn.preprocessing import MinMaxScaler,OneHotEncoder\n",
    "from sklearn.pipeline import make_pipeline\n",
    "from sklearn.model_selection import KFold,GridSearchCV,train_test_split,RepeatedKFold\n",
    "from sklearn.compose import ColumnTransformer\n",
    "from sklearn.linear_model import LogisticRegression,LinearRegression\n",
    "X=df[[\"aircraft\",\"helicopter\",\"tank\",\"APC\"]]\n",
    "# y=datum\n",
    "y=df[\"day\"]\n",
    "# cf=ColumnTransformer([\n",
    "#     (\"date\",OneHotEncoder(),[\"date\"])\n",
    "# ],remainder='passthrough')\n",
    "# cf.fit(y)\n",
    "# y_transformed=cf.transform(y)\n",
    "X_train,X_test,y_train,y_test=train_test_split(X,y,train_size=0.75,shuffle=True,random_state=10)\n",
    "\n",
    "model=KNeighborsClassifier(algorithm=\"ball_tree\",n_jobs=2)\n",
    "model=LinearRegression(normalize=True)\n",
    "\n",
    "model.fit(X_train,y_train)"
   ]
  },
  {
   "cell_type": "code",
   "execution_count": 32,
   "id": "9178fd4d",
   "metadata": {},
   "outputs": [
    {
     "name": "stdout",
     "output_type": "stream",
     "text": [
      "0.9936748404984691\n"
     ]
    }
   ],
   "source": [
    "print(model.score(X_train,y_train))"
   ]
  },
  {
   "cell_type": "code",
   "execution_count": 33,
   "id": "9edbf87c",
   "metadata": {},
   "outputs": [],
   "source": [
    "X_pred=pd.DataFrame([[10,10,15,10],[154,200,10,5]],columns=[\"aircraft\",\"helicopter\",\"tank\",\"APC\"])"
   ]
  },
  {
   "cell_type": "code",
   "execution_count": 34,
   "id": "139ded20",
   "metadata": {},
   "outputs": [
    {
     "data": {
      "text/plain": [
       "array([ -4.71214012, -42.46775714])"
      ]
     },
     "execution_count": 34,
     "metadata": {},
     "output_type": "execute_result"
    }
   ],
   "source": [
    "model.predict(X_pred)"
   ]
  },
  {
   "cell_type": "code",
   "execution_count": null,
   "id": "b7016bde",
   "metadata": {},
   "outputs": [],
   "source": []
  }
 ],
 "metadata": {
  "kernelspec": {
   "display_name": "Python 3 (ipykernel)",
   "language": "python",
   "name": "python3"
  },
  "language_info": {
   "codemirror_mode": {
    "name": "ipython",
    "version": 3
   },
   "file_extension": ".py",
   "mimetype": "text/x-python",
   "name": "python",
   "nbconvert_exporter": "python",
   "pygments_lexer": "ipython3",
   "version": "3.9.12"
  }
 },
 "nbformat": 4,
 "nbformat_minor": 5
}
