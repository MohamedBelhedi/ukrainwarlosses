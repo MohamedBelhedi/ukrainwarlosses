{
 "cells": [
  {
   "cell_type": "code",
   "execution_count": 1,
   "id": "7ffb25c3",
   "metadata": {},
   "outputs": [],
   "source": [
    "import numpy as np\n",
    "import pandas as pd\n",
    "import matplotlib.pyplot as plt\n",
    "import seaborn as sns"
   ]
  },
  {
   "cell_type": "code",
   "execution_count": 2,
   "id": "251635fc",
   "metadata": {},
   "outputs": [],
   "source": [
    "file=\"./russia_losses_personnel.csv\"\n",
    "df=pd.read_csv(file)\n",
    "df=df.dropna(axis=0)"
   ]
  },
  {
   "cell_type": "code",
   "execution_count": 3,
   "id": "abc5d195",
   "metadata": {},
   "outputs": [
    {
     "data": {
      "text/html": [
       "<div>\n",
       "<style scoped>\n",
       "    .dataframe tbody tr th:only-of-type {\n",
       "        vertical-align: middle;\n",
       "    }\n",
       "\n",
       "    .dataframe tbody tr th {\n",
       "        vertical-align: top;\n",
       "    }\n",
       "\n",
       "    .dataframe thead th {\n",
       "        text-align: right;\n",
       "    }\n",
       "</style>\n",
       "<table border=\"1\" class=\"dataframe\">\n",
       "  <thead>\n",
       "    <tr style=\"text-align: right;\">\n",
       "      <th></th>\n",
       "      <th>date</th>\n",
       "      <th>day</th>\n",
       "      <th>personnel</th>\n",
       "      <th>personnel*</th>\n",
       "      <th>POW</th>\n",
       "    </tr>\n",
       "  </thead>\n",
       "  <tbody>\n",
       "    <tr>\n",
       "      <th>0</th>\n",
       "      <td>2022-02-25</td>\n",
       "      <td>2</td>\n",
       "      <td>2800</td>\n",
       "      <td>about</td>\n",
       "      <td>0.0</td>\n",
       "    </tr>\n",
       "    <tr>\n",
       "      <th>1</th>\n",
       "      <td>2022-02-26</td>\n",
       "      <td>3</td>\n",
       "      <td>4300</td>\n",
       "      <td>about</td>\n",
       "      <td>0.0</td>\n",
       "    </tr>\n",
       "    <tr>\n",
       "      <th>2</th>\n",
       "      <td>2022-02-27</td>\n",
       "      <td>4</td>\n",
       "      <td>4500</td>\n",
       "      <td>about</td>\n",
       "      <td>0.0</td>\n",
       "    </tr>\n",
       "    <tr>\n",
       "      <th>3</th>\n",
       "      <td>2022-02-28</td>\n",
       "      <td>5</td>\n",
       "      <td>5300</td>\n",
       "      <td>about</td>\n",
       "      <td>0.0</td>\n",
       "    </tr>\n",
       "    <tr>\n",
       "      <th>4</th>\n",
       "      <td>2022-03-01</td>\n",
       "      <td>6</td>\n",
       "      <td>5710</td>\n",
       "      <td>about</td>\n",
       "      <td>200.0</td>\n",
       "    </tr>\n",
       "  </tbody>\n",
       "</table>\n",
       "</div>"
      ],
      "text/plain": [
       "         date  day  personnel personnel*    POW\n",
       "0  2022-02-25    2       2800      about    0.0\n",
       "1  2022-02-26    3       4300      about    0.0\n",
       "2  2022-02-27    4       4500      about    0.0\n",
       "3  2022-02-28    5       5300      about    0.0\n",
       "4  2022-03-01    6       5710      about  200.0"
      ]
     },
     "execution_count": 3,
     "metadata": {},
     "output_type": "execute_result"
    }
   ],
   "source": [
    "df.head()"
   ]
  },
  {
   "cell_type": "code",
   "execution_count": 6,
   "id": "b28d1df8",
   "metadata": {},
   "outputs": [],
   "source": [
    "X=df[\"day\"]\n",
    "y=df[\"personnel\"]"
   ]
  },
  {
   "cell_type": "code",
   "execution_count": 7,
   "id": "856d52f2",
   "metadata": {},
   "outputs": [
    {
     "data": {
      "text/plain": [
       "[<matplotlib.lines.Line2D at 0x1471b1cf6d0>]"
      ]
     },
     "execution_count": 7,
     "metadata": {},
     "output_type": "execute_result"
    },
    {
     "data": {
      "image/png": "[encoded data removed]",
      "text/plain": [
       "<Figure size 432x288 with 1 Axes>"
      ]
     },
     "metadata": {
      "needs_background": "light"
     },
     "output_type": "display_data"
    }
   ],
   "source": [
    "plt.plot(df[\"day\"],df[\"personnel\"])"
   ]
  },
  {
   "cell_type": "markdown",
   "id": "da195aa9",
   "metadata": {},
   "source": [
    "# Data Preprocessing imports"
   ]
  },
  {
   "cell_type": "code",
   "execution_count": 8,
   "id": "7c8e5adf",
   "metadata": {},
   "outputs": [],
   "source": [
    "from sklearn.linear_model import LinearRegression\n",
    "from sklearn.model_selection import train_test_split\n",
    "from sklearn.metrics import f1_score,jaccard_score,accuracy_score\n",
    "from sklearn.neighbors import KNeighborsClassifier,NearestNeighbors\n",
    "from sklearn.preprocessing import MinMaxScaler"
   ]
  },
  {
   "cell_type": "code",
   "execution_count": 9,
   "id": "750b21e9",
   "metadata": {},
   "outputs": [],
   "source": [
    "X_arr=np.array(df[\"day\"])\n",
    "y_arr=np.array(df[\"personnel\"])"
   ]
  },
  {
   "cell_type": "code",
   "execution_count": 10,
   "id": "cbd11de7",
   "metadata": {},
   "outputs": [
    {
     "data": {
      "text/plain": [
       "pandas.core.series.Series"
      ]
     },
     "execution_count": 10,
     "metadata": {},
     "output_type": "execute_result"
    }
   ],
   "source": [
    "type(X)"
   ]
  },
  {
   "cell_type": "code",
   "execution_count": 11,
   "id": "4d2245bd",
   "metadata": {},
   "outputs": [
    {
     "data": {
      "text/plain": [
       "(62,)"
      ]
     },
     "execution_count": 11,
     "metadata": {},
     "output_type": "execute_result"
    }
   ],
   "source": [
    "X.shape"
   ]
  },
  {
   "cell_type": "code",
   "execution_count": 12,
   "id": "c1a6b389",
   "metadata": {},
   "outputs": [
    {
     "data": {
      "text/plain": [
       "(62,)"
      ]
     },
     "execution_count": 12,
     "metadata": {},
     "output_type": "execute_result"
    }
   ],
   "source": [
    "y.shape"
   ]
  },
  {
   "cell_type": "code",
   "execution_count": 13,
   "id": "03615173",
   "metadata": {},
   "outputs": [],
   "source": [
    "X_shaped=X_arr.reshape(-1,1)\n",
    "y_shaped=y_arr.reshape(-1,1)"
   ]
  },
  {
   "cell_type": "code",
   "execution_count": 14,
   "id": "4262d878",
   "metadata": {},
   "outputs": [],
   "source": [
    "X_train,X_test,y_train,y_test=train_test_split(X_shaped,y_shaped,test_size=0.5,train_size=0.2,random_state=9,shuffle=True)\n"
   ]
  },
  {
   "cell_type": "code",
   "execution_count": 15,
   "id": "26f4b86d",
   "metadata": {},
   "outputs": [],
   "source": [
    "# scaler=MinMaxScaler()\n",
    "# X_train=scaler.fit_transform(X_train)\n",
    "# y_train=scaler.fit_transform(y_train)"
   ]
  },
  {
   "cell_type": "code",
   "execution_count": 16,
   "id": "76c39b7b",
   "metadata": {},
   "outputs": [
    {
     "data": {
      "text/plain": [
       "(12, 1)"
      ]
     },
     "execution_count": 16,
     "metadata": {},
     "output_type": "execute_result"
    }
   ],
   "source": [
    "X_train.shape"
   ]
  },
  {
   "cell_type": "code",
   "execution_count": 17,
   "id": "f6bf8797",
   "metadata": {},
   "outputs": [
    {
     "data": {
      "text/plain": [
       "(62, 1)"
      ]
     },
     "execution_count": 17,
     "metadata": {},
     "output_type": "execute_result"
    }
   ],
   "source": [
    "X_shaped.shape"
   ]
  },
  {
   "cell_type": "code",
   "execution_count": 22,
   "id": "37a556f6",
   "metadata": {},
   "outputs": [
    {
     "data": {
      "text/plain": [
       "0.989329595405948"
      ]
     },
     "execution_count": 22,
     "metadata": {},
     "output_type": "execute_result"
    }
   ],
   "source": [
    "regr=LinearRegression()\n",
    "regr.fit(X_train,y_train)\n",
    "regr.score(X_train,y_train)\n",
    "\n",
    "# regr.fit(X_shaped,y_shaped)\n",
    "\n",
    "# predictionx=regr.predict(X_shaped)\n",
    "# predictiony=regr.predict(y_shaped)"
   ]
  },
  {
   "cell_type": "code",
   "execution_count": 23,
   "id": "69991573",
   "metadata": {},
   "outputs": [
    {
     "data": {
      "text/plain": [
       "0.85934545063387"
      ]
     },
     "execution_count": 23,
     "metadata": {},
     "output_type": "execute_result"
    }
   ],
   "source": [
    "regr.score(X_test,y_test)"
   ]
  },
  {
   "cell_type": "code",
   "execution_count": 24,
   "id": "1aee191c",
   "metadata": {},
   "outputs": [],
   "source": [
    "predriction=pd.DataFrame([[32],[40],[75],[100],[300],[365],[400]],columns=[\"day\"])\n",
    "# predrictiony=pd.DataFrame([[357],[365],[400]],columns=[\"day\"])"
   ]
  },
  {
   "cell_type": "code",
   "execution_count": 25,
   "id": "1102177a",
   "metadata": {},
   "outputs": [
    {
     "name": "stdout",
     "output_type": "stream",
     "text": [
      "coeffcient:[[218.51227888]]\n"
     ]
    }
   ],
   "source": [
    "print(f\"coeffcient:{regr.coef_}\")"
   ]
  },
  {
   "cell_type": "code",
   "execution_count": 68,
   "id": "54969d60",
   "metadata": {},
   "outputs": [
    {
     "name": "stderr",
     "output_type": "stream",
     "text": [
      "C:\\Users\\User\\anaconda3\\lib\\site-packages\\sklearn\\base.py:443: UserWarning: X has feature names, but LinearRegression was fitted without feature names\n",
      "  warnings.warn(\n"
     ]
    }
   ],
   "source": [
    "results=regr.predict(predriction)"
   ]
  },
  {
   "cell_type": "code",
   "execution_count": null,
   "id": "990717ff",
   "metadata": {},
   "outputs": [],
   "source": []
  },
  {
   "cell_type": "code",
   "execution_count": 73,
   "id": "bc97d163",
   "metadata": {},
   "outputs": [],
   "source": [
    "frameresult=pd.DataFrame(results,columns=[\"losses Russian Soldiers\"])\n",
    "framepred=pd.DataFrame(predriction)\n"
   ]
  },
  {
   "cell_type": "code",
   "execution_count": 75,
   "id": "91b055e2",
   "metadata": {},
   "outputs": [],
   "source": [
    "ResulFrame=pd.concat([framepred,frameresult],axis=1)"
   ]
  },
  {
   "cell_type": "code",
   "execution_count": 79,
   "id": "2babd36f",
   "metadata": {},
   "outputs": [],
   "source": [
    "df_res=ResulFrame"
   ]
  },
  {
   "cell_type": "code",
   "execution_count": 86,
   "id": "19d27627",
   "metadata": {},
   "outputs": [
    {
     "data": {
      "text/plain": [
       "(7,)"
      ]
     },
     "execution_count": 86,
     "metadata": {},
     "output_type": "execute_result"
    }
   ],
   "source": [
    "df_res[\"day\"].shape"
   ]
  },
  {
   "cell_type": "code",
   "execution_count": 82,
   "id": "69d3f9ef",
   "metadata": {},
   "outputs": [
    {
     "name": "stdout",
     "output_type": "stream",
     "text": [
      "15890.72982137843\n",
      "17638.828052441735\n",
      "25286.7578133437\n",
      "30749.56478541653\n",
      "74452.02056199916\n",
      "88655.31868938853\n",
      "96303.24845029048\n"
     ]
    }
   ],
   "source": [
    "for i in df_res[\"losses Russian Soldiers\"] :\n",
    "#     print(f\"{round(i[0],0)}\")\n",
    "    print(i)\n",
    "# print(predriction)    "
   ]
  },
  {
   "cell_type": "code",
   "execution_count": 77,
   "id": "7d52aea1",
   "metadata": {},
   "outputs": [],
   "source": [
    "# LR_accuracy_score=accuracy_score(predictionx,y_shaped)"
   ]
  },
  {
   "cell_type": "code",
   "execution_count": 78,
   "id": "57da22d3",
   "metadata": {},
   "outputs": [],
   "source": [
    "y_reshaped_pred=results.reshape(-1,1)"
   ]
  },
  {
   "cell_type": "code",
   "execution_count": 90,
   "id": "30c05735",
   "metadata": {},
   "outputs": [
    {
     "data": {
      "text/plain": [
       "<AxesSubplot:title={'center':'UKraine War 2022'}, xlabel='War Days', ylabel='Russian Soldiers Losses'>"
      ]
     },
     "execution_count": 90,
     "metadata": {},
     "output_type": "execute_result"
    },
    {
     "data": {
      "image/png": "[encoded data removed]",
      "text/plain": [
       "<Figure size 1224x720 with 1 Axes>"
      ]
     },
     "metadata": {
      "needs_background": "light"
     },
     "output_type": "display_data"
    }
   ],
   "source": [
    "plt.figure(figsize=(17,10))\n",
    "plt.title(\"UKraine War 2022\")\n",
    "plt.xlabel(\"War Days\")\n",
    "plt.ylabel(\"Russian Soldiers Losses\")\n",
    "ax=sns.lineplot(x=df_res[\"day\"],y=df_res[\"losses Russian Soldiers\"],color='red')\n",
    "# plt.xlim(0,400)\n",
    "# plt.ylim(0,100000)\n",
    "sns.scatterplot(x=\"day\",y=\"personnel\",data=df,ax=ax)\n",
    "# plt.scatter(X,y,alpha=0.4,c=\"y\")"
   ]
  },
  {
   "cell_type": "markdown",
   "id": "cc7abe83",
   "metadata": {},
   "source": [
    "# Tensorflow Imports"
   ]
  },
  {
   "cell_type": "code",
   "execution_count": 45,
   "id": "f1c9720e",
   "metadata": {},
   "outputs": [],
   "source": [
    "import tensorflow as tf\n",
    "from tensorflow.keras import Sequential\n",
    "from tensorflow.keras.layers import Dense,Activation,Softmax,Flatten"
   ]
  },
  {
   "cell_type": "code",
   "execution_count": 46,
   "id": "d3346cb0",
   "metadata": {},
   "outputs": [],
   "source": [
    "adam=tf.keras.optimizers.Adam(\n",
    "    learning_rate=0.0001,\n",
    "    beta_1=0.9,\n",
    "    beta_2=0.999,\n",
    "    epsilon=1e-08,\n",
    "    amsgrad=True,\n",
    "    name='Adam')"
   ]
  },
  {
   "cell_type": "code",
   "execution_count": 50,
   "id": "03b033a7",
   "metadata": {},
   "outputs": [],
   "source": [
    "model=Sequential()\n",
    "model.add(Dense(24,activation=\"tanh\"))\n",
    "model.add(Dense(18,activation=\"relu\"))\n",
    "model.add(Dense(16,activation=\"relu\"))\n",
    "model.add(Dense(14,activation=\"sigmoid\"))\n",
    "model.add(Dense(18,activation=\"relu\"))\n",
    "\n",
    "model.compile(optimizer=\"rmsprop\",loss=\"mse\",metrics=[\"accuracy\"])"
   ]
  },
  {
   "cell_type": "code",
   "execution_count": 51,
   "id": "232a4c4d",
   "metadata": {},
   "outputs": [
    {
     "name": "stdout",
     "output_type": "stream",
     "text": [
      "Epoch 1/400\n",
      "1/1 [==============================] - 2s 2s/step - loss: 256022400.0000 - accuracy: 0.0000e+00\n",
      "Epoch 2/400\n",
      "1/1 [==============================] - 0s 8ms/step - loss: 256021872.0000 - accuracy: 0.0000e+00\n",
      "Epoch 3/400\n",
      "1/1 [==============================] - 0s 8ms/step - loss: 256021440.0000 - accuracy: 0.0000e+00\n",
      "Epoch 4/400\n",
      "1/1 [==============================] - 0s 5ms/step - loss: 256021104.0000 - accuracy: 0.0000e+00\n",
      "Epoch 5/400\n",
      "1/1 [==============================] - 0s 7ms/step - loss: 256020784.0000 - accuracy: 0.0000e+00\n",
      "Epoch 6/400\n",
      "1/1 [==============================] - 0s 7ms/step - loss: 256020432.0000 - accuracy: 0.0000e+00\n",
      "Epoch 7/400\n",
      "1/1 [==============================] - 0s 7ms/step - loss: 256020096.0000 - accuracy: 0.0000e+00\n",
      "Epoch 8/400\n",
      "1/1 [==============================] - 0s 42ms/step - loss: 256019776.0000 - accuracy: 0.0000e+00\n",
      "Epoch 9/400\n",
      "1/1 [==============================] - 0s 7ms/step - loss: 256019472.0000 - accuracy: 0.0000e+00\n",
      "Epoch 10/400\n",
      "1/1 [==============================] - 0s 12ms/step - loss: 256019184.0000 - accuracy: 0.0000e+00\n",
      "Epoch 11/400\n",
      "1/1 [==============================] - 0s 5ms/step - loss: 256018816.0000 - accuracy: 0.0000e+00\n",
      "Epoch 12/400\n",
      "1/1 [==============================] - 0s 7ms/step - loss: 256018480.0000 - accuracy: 0.0000e+00\n",
      "Epoch 13/400\n",
      "1/1 [==============================] - 0s 7ms/step - loss: 256018176.0000 - accuracy: 0.0000e+00\n",
      "Epoch 14/400\n",
      "1/1 [==============================] - 0s 6ms/step - loss: 256017856.0000 - accuracy: 0.0000e+00\n",
      "Epoch 15/400\n",
      "1/1 [==============================] - 0s 18ms/step - loss: 256017552.0000 - accuracy: 0.0000e+00\n",
      "Epoch 16/400\n",
      "1/1 [==============================] - 0s 7ms/step - loss: 256017280.0000 - accuracy: 0.0000e+00\n",
      "Epoch 17/400\n",
      "1/1 [==============================] - 0s 6ms/step - loss: 256017008.0000 - accuracy: 0.0000e+00\n",
      "Epoch 18/400\n",
      "1/1 [==============================] - 0s 9ms/step - loss: 256016720.0000 - accuracy: 0.0000e+00\n",
      "Epoch 19/400\n",
      "1/1 [==============================] - 0s 6ms/step - loss: 256016448.0000 - accuracy: 0.0000e+00\n",
      "Epoch 20/400\n",
      "1/1 [==============================] - 0s 5ms/step - loss: 256016176.0000 - accuracy: 0.0000e+00\n",
      "Epoch 21/400\n",
      "1/1 [==============================] - 0s 9ms/step - loss: 256015920.0000 - accuracy: 0.0000e+00\n",
      "Epoch 22/400\n",
      "1/1 [==============================] - 0s 5ms/step - loss: 256015632.0000 - accuracy: 0.0000e+00\n",
      "Epoch 23/400\n",
      "1/1 [==============================] - 0s 6ms/step - loss: 256015376.0000 - accuracy: 0.0000e+00\n",
      "Epoch 24/400\n",
      "1/1 [==============================] - 0s 5ms/step - loss: 256015104.0000 - accuracy: 0.0000e+00\n",
      "Epoch 25/400\n",
      "1/1 [==============================] - 0s 5ms/step - loss: 256014800.0000 - accuracy: 0.0000e+00\n",
      "Epoch 26/400\n",
      "1/1 [==============================] - 0s 7ms/step - loss: 256014544.0000 - accuracy: 0.0000e+00\n",
      "Epoch 27/400\n",
      "1/1 [==============================] - 0s 40ms/step - loss: 256014272.0000 - accuracy: 0.0000e+00\n",
      "Epoch 28/400\n",
      "1/1 [==============================] - 0s 21ms/step - loss: 256014000.0000 - accuracy: 0.0000e+00\n",
      "Epoch 29/400\n",
      "1/1 [==============================] - 0s 5ms/step - loss: 256013712.0000 - accuracy: 0.0000e+00\n",
      "Epoch 30/400\n",
      "1/1 [==============================] - 0s 6ms/step - loss: 256013440.0000 - accuracy: 0.0000e+00\n",
      "Epoch 31/400\n",
      "1/1 [==============================] - 0s 4ms/step - loss: 256013168.0000 - accuracy: 0.0000e+00\n",
      "Epoch 32/400\n",
      "1/1 [==============================] - 0s 7ms/step - loss: 256012880.0000 - accuracy: 0.0000e+00\n",
      "Epoch 33/400\n",
      "1/1 [==============================] - 0s 4ms/step - loss: 256012592.0000 - accuracy: 0.0000e+00\n",
      "Epoch 34/400\n",
      "1/1 [==============================] - 0s 6ms/step - loss: 256012304.0000 - accuracy: 0.0000e+00\n",
      "Epoch 35/400\n",
      "1/1 [==============================] - 0s 30ms/step - loss: 256011968.0000 - accuracy: 0.0000e+00\n",
      "Epoch 36/400\n",
      "1/1 [==============================] - 0s 6ms/step - loss: 256011600.0000 - accuracy: 0.0000e+00\n",
      "Epoch 37/400\n",
      "1/1 [==============================] - 0s 5ms/step - loss: 256011264.0000 - accuracy: 0.0000e+00\n",
      "Epoch 38/400\n",
      "1/1 [==============================] - 0s 5ms/step - loss: 256010896.0000 - accuracy: 0.0000e+00\n",
      "Epoch 39/400\n",
      "1/1 [==============================] - 0s 6ms/step - loss: 256010576.0000 - accuracy: 0.0000e+00\n",
      "Epoch 40/400\n",
      "1/1 [==============================] - 0s 8ms/step - loss: 256010128.0000 - accuracy: 0.0000e+00\n",
      "Epoch 41/400\n",
      "1/1 [==============================] - 0s 9ms/step - loss: 256009680.0000 - accuracy: 0.0000e+00\n",
      "Epoch 42/400\n",
      "1/1 [==============================] - 0s 62ms/step - loss: 256009216.0000 - accuracy: 0.0000e+00\n",
      "Epoch 43/400\n",
      "1/1 [==============================] - 0s 24ms/step - loss: 256008784.0000 - accuracy: 0.0000e+00\n",
      "Epoch 44/400\n",
      "1/1 [==============================] - 0s 17ms/step - loss: 256008368.0000 - accuracy: 0.0000e+00\n",
      "Epoch 45/400\n",
      "1/1 [==============================] - 0s 8ms/step - loss: 256007952.0000 - accuracy: 0.0000e+00\n",
      "Epoch 46/400\n",
      "1/1 [==============================] - 0s 5ms/step - loss: 256007504.0000 - accuracy: 0.0000e+00\n",
      "Epoch 47/400\n",
      "1/1 [==============================] - 0s 9ms/step - loss: 256007104.0000 - accuracy: 0.0000e+00\n",
      "Epoch 48/400\n",
      "1/1 [==============================] - 0s 4ms/step - loss: 256006656.0000 - accuracy: 0.0000e+00\n",
      "Epoch 49/400\n",
      "1/1 [==============================] - 0s 9ms/step - loss: 256006256.0000 - accuracy: 0.0000e+00\n",
      "Epoch 50/400\n",
      "1/1 [==============================] - 0s 7ms/step - loss: 256005840.0000 - accuracy: 0.0000e+00\n",
      "Epoch 51/400\n",
      "1/1 [==============================] - 0s 9ms/step - loss: 256005424.0000 - accuracy: 0.0000e+00\n",
      "Epoch 52/400\n",
      "1/1 [==============================] - 0s 8ms/step - loss: 256004992.0000 - accuracy: 0.0000e+00\n",
      "Epoch 53/400\n",
      "1/1 [==============================] - 0s 6ms/step - loss: 256004608.0000 - accuracy: 0.0000e+00\n",
      "Epoch 54/400\n",
      "1/1 [==============================] - 0s 8ms/step - loss: 256004224.0000 - accuracy: 0.0000e+00\n",
      "Epoch 55/400\n",
      "1/1 [==============================] - 0s 46ms/step - loss: 256003792.0000 - accuracy: 0.0000e+00\n",
      "Epoch 56/400\n",
      "1/1 [==============================] - 0s 5ms/step - loss: 256003392.0000 - accuracy: 0.0000e+00\n",
      "Epoch 57/400\n",
      "1/1 [==============================] - 0s 5ms/step - loss: 256002992.0000 - accuracy: 0.0000e+00\n",
      "Epoch 58/400\n",
      "1/1 [==============================] - 0s 7ms/step - loss: 256002576.0000 - accuracy: 0.0000e+00\n",
      "Epoch 59/400\n",
      "1/1 [==============================] - 0s 6ms/step - loss: 256002176.0000 - accuracy: 0.0000e+00\n",
      "Epoch 60/400\n",
      "1/1 [==============================] - 0s 5ms/step - loss: 256001792.0000 - accuracy: 0.0000e+00\n",
      "Epoch 61/400\n",
      "1/1 [==============================] - 0s 5ms/step - loss: 256001408.0000 - accuracy: 0.0000e+00\n",
      "Epoch 62/400\n",
      "1/1 [==============================] - 0s 7ms/step - loss: 256000976.0000 - accuracy: 0.0000e+00\n",
      "Epoch 63/400\n",
      "1/1 [==============================] - 0s 6ms/step - loss: 256000592.0000 - accuracy: 0.0000e+00\n",
      "Epoch 64/400\n",
      "1/1 [==============================] - 0s 5ms/step - loss: 256000208.0000 - accuracy: 0.0000e+00\n",
      "Epoch 65/400\n",
      "1/1 [==============================] - 0s 5ms/step - loss: 255999808.0000 - accuracy: 0.0000e+00\n",
      "Epoch 66/400\n",
      "1/1 [==============================] - 0s 5ms/step - loss: 255999408.0000 - accuracy: 0.0000e+00\n",
      "Epoch 67/400\n",
      "1/1 [==============================] - 0s 5ms/step - loss: 255999024.0000 - accuracy: 0.0000e+00\n",
      "Epoch 68/400\n",
      "1/1 [==============================] - 0s 4ms/step - loss: 255998640.0000 - accuracy: 0.0000e+00\n",
      "Epoch 69/400\n",
      "1/1 [==============================] - 0s 10ms/step - loss: 255998208.0000 - accuracy: 0.0000e+00\n",
      "Epoch 70/400\n",
      "1/1 [==============================] - 0s 6ms/step - loss: 255997840.0000 - accuracy: 0.0000e+00\n",
      "Epoch 71/400\n",
      "1/1 [==============================] - 0s 5ms/step - loss: 255997440.0000 - accuracy: 0.0000e+00\n",
      "Epoch 72/400\n",
      "1/1 [==============================] - 0s 9ms/step - loss: 255997072.0000 - accuracy: 0.0000e+00\n",
      "Epoch 73/400\n",
      "1/1 [==============================] - 0s 5ms/step - loss: 255996672.0000 - accuracy: 0.0000e+00\n",
      "Epoch 74/400\n",
      "1/1 [==============================] - 0s 9ms/step - loss: 255996288.0000 - accuracy: 0.0000e+00\n",
      "Epoch 75/400\n"
     ]
    },
    {
     "name": "stdout",
     "output_type": "stream",
     "text": [
      "1/1 [==============================] - 0s 47ms/step - loss: 255995904.0000 - accuracy: 0.0000e+00\n",
      "Epoch 76/400\n",
      "1/1 [==============================] - 0s 5ms/step - loss: 255995520.0000 - accuracy: 0.0000e+00\n",
      "Epoch 77/400\n",
      "1/1 [==============================] - 0s 9ms/step - loss: 255995184.0000 - accuracy: 0.0000e+00\n",
      "Epoch 78/400\n",
      "1/1 [==============================] - 0s 10ms/step - loss: 255994768.0000 - accuracy: 0.0000e+00\n",
      "Epoch 79/400\n",
      "1/1 [==============================] - 0s 5ms/step - loss: 255994416.0000 - accuracy: 0.0000e+00\n",
      "Epoch 80/400\n",
      "1/1 [==============================] - 0s 8ms/step - loss: 255994032.0000 - accuracy: 0.0000e+00\n",
      "Epoch 81/400\n",
      "1/1 [==============================] - 0s 5ms/step - loss: 255993680.0000 - accuracy: 0.0000e+00\n",
      "Epoch 82/400\n",
      "1/1 [==============================] - 0s 22ms/step - loss: 255993296.0000 - accuracy: 0.0000e+00\n",
      "Epoch 83/400\n",
      "1/1 [==============================] - 0s 8ms/step - loss: 255992944.0000 - accuracy: 0.0000e+00\n",
      "Epoch 84/400\n",
      "1/1 [==============================] - 0s 5ms/step - loss: 255992576.0000 - accuracy: 0.0000e+00\n",
      "Epoch 85/400\n",
      "1/1 [==============================] - 0s 6ms/step - loss: 255992240.0000 - accuracy: 0.0000e+00\n",
      "Epoch 86/400\n",
      "1/1 [==============================] - 0s 6ms/step - loss: 255991856.0000 - accuracy: 0.0000e+00\n",
      "Epoch 87/400\n",
      "1/1 [==============================] - 0s 5ms/step - loss: 255991504.0000 - accuracy: 0.0000e+00\n",
      "Epoch 88/400\n",
      "1/1 [==============================] - 0s 7ms/step - loss: 255991152.0000 - accuracy: 0.0000e+00\n",
      "Epoch 89/400\n",
      "1/1 [==============================] - 0s 37ms/step - loss: 255990784.0000 - accuracy: 0.0000e+00\n",
      "Epoch 90/400\n",
      "1/1 [==============================] - 0s 19ms/step - loss: 255990448.0000 - accuracy: 0.0000e+00\n",
      "Epoch 91/400\n",
      "1/1 [==============================] - 0s 6ms/step - loss: 255990080.0000 - accuracy: 0.0000e+00\n",
      "Epoch 92/400\n",
      "1/1 [==============================] - 0s 6ms/step - loss: 255989744.0000 - accuracy: 0.0000e+00\n",
      "Epoch 93/400\n",
      "1/1 [==============================] - 0s 5ms/step - loss: 255989392.0000 - accuracy: 0.0000e+00\n",
      "Epoch 94/400\n",
      "1/1 [==============================] - 0s 6ms/step - loss: 255989040.0000 - accuracy: 0.0000e+00\n",
      "Epoch 95/400\n",
      "1/1 [==============================] - 0s 4ms/step - loss: 255988688.0000 - accuracy: 0.0000e+00\n",
      "Epoch 96/400\n",
      "1/1 [==============================] - 0s 8ms/step - loss: 255988352.0000 - accuracy: 0.0000e+00\n",
      "Epoch 97/400\n",
      "1/1 [==============================] - 0s 6ms/step - loss: 255988016.0000 - accuracy: 0.0000e+00\n",
      "Epoch 98/400\n",
      "1/1 [==============================] - 0s 8ms/step - loss: 255987664.0000 - accuracy: 0.0000e+00\n",
      "Epoch 99/400\n",
      "1/1 [==============================] - 0s 11ms/step - loss: 255987328.0000 - accuracy: 0.0000e+00\n",
      "Epoch 100/400\n",
      "1/1 [==============================] - 0s 5ms/step - loss: 255987024.0000 - accuracy: 0.0000e+00\n",
      "Epoch 101/400\n",
      "1/1 [==============================] - 0s 6ms/step - loss: 255986640.0000 - accuracy: 0.0000e+00\n",
      "Epoch 102/400\n",
      "1/1 [==============================] - 0s 35ms/step - loss: 255986304.0000 - accuracy: 0.0000e+00\n",
      "Epoch 103/400\n",
      "1/1 [==============================] - 0s 5ms/step - loss: 255985984.0000 - accuracy: 0.0000e+00\n",
      "Epoch 104/400\n",
      "1/1 [==============================] - 0s 9ms/step - loss: 255985648.0000 - accuracy: 0.0000e+00\n",
      "Epoch 105/400\n",
      "1/1 [==============================] - 0s 5ms/step - loss: 255985296.0000 - accuracy: 0.0000e+00\n",
      "Epoch 106/400\n",
      "1/1 [==============================] - 0s 7ms/step - loss: 255984976.0000 - accuracy: 0.0000e+00\n",
      "Epoch 107/400\n",
      "1/1 [==============================] - 0s 7ms/step - loss: 255984640.0000 - accuracy: 0.0000e+00\n",
      "Epoch 108/400\n",
      "1/1 [==============================] - 0s 5ms/step - loss: 255984320.0000 - accuracy: 0.0000e+00\n",
      "Epoch 109/400\n",
      "1/1 [==============================] - 0s 24ms/step - loss: 255983984.0000 - accuracy: 0.0000e+00\n",
      "Epoch 110/400\n",
      "1/1 [==============================] - 0s 22ms/step - loss: 255983664.0000 - accuracy: 0.0000e+00\n",
      "Epoch 111/400\n",
      "1/1 [==============================] - 0s 5ms/step - loss: 255983312.0000 - accuracy: 0.0000e+00\n",
      "Epoch 112/400\n",
      "1/1 [==============================] - 0s 5ms/step - loss: 255982976.0000 - accuracy: 0.0000e+00\n",
      "Epoch 113/400\n",
      "1/1 [==============================] - 0s 5ms/step - loss: 255982672.0000 - accuracy: 0.0000e+00\n",
      "Epoch 114/400\n",
      "1/1 [==============================] - 0s 37ms/step - loss: 255982336.0000 - accuracy: 0.0000e+00\n",
      "Epoch 115/400\n",
      "1/1 [==============================] - 0s 4ms/step - loss: 255982032.0000 - accuracy: 0.0000e+00\n",
      "Epoch 116/400\n",
      "1/1 [==============================] - 0s 32ms/step - loss: 255981696.0000 - accuracy: 0.0000e+00\n",
      "Epoch 117/400\n",
      "1/1 [==============================] - 0s 6ms/step - loss: 255981376.0000 - accuracy: 0.0000e+00\n",
      "Epoch 118/400\n",
      "1/1 [==============================] - 0s 4ms/step - loss: 255981056.0000 - accuracy: 0.0000e+00\n",
      "Epoch 119/400\n",
      "1/1 [==============================] - 0s 7ms/step - loss: 255980736.0000 - accuracy: 0.0000e+00\n",
      "Epoch 120/400\n",
      "1/1 [==============================] - 0s 4ms/step - loss: 255980416.0000 - accuracy: 0.0000e+00\n",
      "Epoch 121/400\n",
      "1/1 [==============================] - 0s 8ms/step - loss: 255980112.0000 - accuracy: 0.0000e+00\n",
      "Epoch 122/400\n",
      "1/1 [==============================] - 0s 5ms/step - loss: 255979792.0000 - accuracy: 0.0000e+00\n",
      "Epoch 123/400\n",
      "1/1 [==============================] - 0s 28ms/step - loss: 255979472.0000 - accuracy: 0.0000e+00\n",
      "Epoch 124/400\n",
      "1/1 [==============================] - 0s 8ms/step - loss: 255979184.0000 - accuracy: 0.0000e+00\n",
      "Epoch 125/400\n",
      "1/1 [==============================] - 0s 9ms/step - loss: 255978864.0000 - accuracy: 0.0000e+00\n",
      "Epoch 126/400\n",
      "1/1 [==============================] - 0s 5ms/step - loss: 255978560.0000 - accuracy: 0.0000e+00\n",
      "Epoch 127/400\n",
      "1/1 [==============================] - 0s 9ms/step - loss: 255978256.0000 - accuracy: 0.0000e+00\n",
      "Epoch 128/400\n",
      "1/1 [==============================] - 0s 6ms/step - loss: 255977936.0000 - accuracy: 0.0000e+00\n",
      "Epoch 129/400\n",
      "1/1 [==============================] - 0s 5ms/step - loss: 255977648.0000 - accuracy: 0.0000e+00\n",
      "Epoch 130/400\n",
      "1/1 [==============================] - 0s 14ms/step - loss: 255977328.0000 - accuracy: 0.0000e+00\n",
      "Epoch 131/400\n",
      "1/1 [==============================] - 0s 5ms/step - loss: 255977040.0000 - accuracy: 0.0000e+00\n",
      "Epoch 132/400\n",
      "1/1 [==============================] - 0s 10ms/step - loss: 255976720.0000 - accuracy: 0.0000e+00\n",
      "Epoch 133/400\n",
      "1/1 [==============================] - 0s 5ms/step - loss: 255976432.0000 - accuracy: 0.0000e+00\n",
      "Epoch 134/400\n",
      "1/1 [==============================] - 0s 6ms/step - loss: 255976128.0000 - accuracy: 0.0000e+00\n",
      "Epoch 135/400\n",
      "1/1 [==============================] - 0s 6ms/step - loss: 255975824.0000 - accuracy: 0.0000e+00\n",
      "Epoch 136/400\n",
      "1/1 [==============================] - 0s 6ms/step - loss: 255975536.0000 - accuracy: 0.0000e+00\n",
      "Epoch 137/400\n",
      "1/1 [==============================] - 0s 69ms/step - loss: 255975248.0000 - accuracy: 0.0000e+00\n",
      "Epoch 138/400\n",
      "1/1 [==============================] - 0s 7ms/step - loss: 255974928.0000 - accuracy: 0.0000e+00\n",
      "Epoch 139/400\n",
      "1/1 [==============================] - 0s 9ms/step - loss: 255974640.0000 - accuracy: 0.0000e+00\n",
      "Epoch 140/400\n",
      "1/1 [==============================] - 0s 5ms/step - loss: 255974352.0000 - accuracy: 0.0000e+00\n",
      "Epoch 141/400\n",
      "1/1 [==============================] - 0s 7ms/step - loss: 255974080.0000 - accuracy: 0.0000e+00\n",
      "Epoch 142/400\n",
      "1/1 [==============================] - 0s 11ms/step - loss: 255973760.0000 - accuracy: 0.0000e+00\n",
      "Epoch 143/400\n",
      "1/1 [==============================] - 0s 14ms/step - loss: 255973456.0000 - accuracy: 0.0000e+00\n",
      "Epoch 144/400\n",
      "1/1 [==============================] - 0s 8ms/step - loss: 255973168.0000 - accuracy: 0.0000e+00\n",
      "Epoch 145/400\n",
      "1/1 [==============================] - 0s 10ms/step - loss: 255972880.0000 - accuracy: 0.0000e+00\n",
      "Epoch 146/400\n",
      "1/1 [==============================] - 0s 5ms/step - loss: 255972592.0000 - accuracy: 0.0000e+00\n",
      "Epoch 147/400\n",
      "1/1 [==============================] - 0s 6ms/step - loss: 255972288.0000 - accuracy: 0.0000e+00\n",
      "Epoch 148/400\n",
      "1/1 [==============================] - 0s 10ms/step - loss: 255971968.0000 - accuracy: 0.0000e+00\n"
     ]
    },
    {
     "name": "stdout",
     "output_type": "stream",
     "text": [
      "Epoch 149/400\n",
      "1/1 [==============================] - 0s 49ms/step - loss: 255971664.0000 - accuracy: 0.0000e+00\n",
      "Epoch 150/400\n",
      "1/1 [==============================] - 0s 5ms/step - loss: 255971376.0000 - accuracy: 0.0000e+00\n",
      "Epoch 151/400\n",
      "1/1 [==============================] - 0s 7ms/step - loss: 255971072.0000 - accuracy: 0.0000e+00\n",
      "Epoch 152/400\n",
      "1/1 [==============================] - 0s 9ms/step - loss: 255970736.0000 - accuracy: 0.0000e+00\n",
      "Epoch 153/400\n",
      "1/1 [==============================] - 0s 10ms/step - loss: 255970432.0000 - accuracy: 0.0000e+00\n",
      "Epoch 154/400\n",
      "1/1 [==============================] - 0s 6ms/step - loss: 255970112.0000 - accuracy: 0.0000e+00\n",
      "Epoch 155/400\n",
      "1/1 [==============================] - 0s 9ms/step - loss: 255969792.0000 - accuracy: 0.0000e+00\n",
      "Epoch 156/400\n",
      "1/1 [==============================] - 0s 15ms/step - loss: 255969488.0000 - accuracy: 0.0000e+00\n",
      "Epoch 157/400\n",
      "1/1 [==============================] - 0s 7ms/step - loss: 255969152.0000 - accuracy: 0.0000e+00\n",
      "Epoch 158/400\n",
      "1/1 [==============================] - 0s 7ms/step - loss: 255968816.0000 - accuracy: 0.0000e+00\n",
      "Epoch 159/400\n",
      "1/1 [==============================] - 0s 6ms/step - loss: 255968496.0000 - accuracy: 0.0000e+00\n",
      "Epoch 160/400\n",
      "1/1 [==============================] - 0s 7ms/step - loss: 255968176.0000 - accuracy: 0.0000e+00\n",
      "Epoch 161/400\n",
      "1/1 [==============================] - 0s 7ms/step - loss: 255967824.0000 - accuracy: 0.0000e+00\n",
      "Epoch 162/400\n",
      "1/1 [==============================] - 0s 6ms/step - loss: 255967504.0000 - accuracy: 0.0000e+00\n",
      "Epoch 163/400\n",
      "1/1 [==============================] - 0s 15ms/step - loss: 255967184.0000 - accuracy: 0.0000e+00\n",
      "Epoch 164/400\n",
      "1/1 [==============================] - 0s 9ms/step - loss: 255966848.0000 - accuracy: 0.0000e+00\n",
      "Epoch 165/400\n",
      "1/1 [==============================] - 0s 6ms/step - loss: 255966544.0000 - accuracy: 0.0000e+00\n",
      "Epoch 166/400\n",
      "1/1 [==============================] - 0s 6ms/step - loss: 255966224.0000 - accuracy: 0.0000e+00\n",
      "Epoch 167/400\n",
      "1/1 [==============================] - 0s 10ms/step - loss: 255965904.0000 - accuracy: 0.0000e+00\n",
      "Epoch 168/400\n",
      "1/1 [==============================] - 0s 9ms/step - loss: 255965616.0000 - accuracy: 0.0000e+00\n",
      "Epoch 169/400\n",
      "1/1 [==============================] - 0s 7ms/step - loss: 255965264.0000 - accuracy: 0.0000e+00\n",
      "Epoch 170/400\n",
      "1/1 [==============================] - 0s 6ms/step - loss: 255964976.0000 - accuracy: 0.0000e+00\n",
      "Epoch 171/400\n",
      "1/1 [==============================] - 0s 6ms/step - loss: 255964672.0000 - accuracy: 0.0000e+00\n",
      "Epoch 172/400\n",
      "1/1 [==============================] - 0s 5ms/step - loss: 255964352.0000 - accuracy: 0.0000e+00\n",
      "Epoch 173/400\n",
      "1/1 [==============================] - 0s 11ms/step - loss: 255964032.0000 - accuracy: 0.0000e+00\n",
      "Epoch 174/400\n",
      "1/1 [==============================] - 0s 7ms/step - loss: 255963728.0000 - accuracy: 0.0000e+00\n",
      "Epoch 175/400\n",
      "1/1 [==============================] - 0s 5ms/step - loss: 255963408.0000 - accuracy: 0.0000e+00\n",
      "Epoch 176/400\n",
      "1/1 [==============================] - 0s 7ms/step - loss: 255963088.0000 - accuracy: 0.0000e+00\n",
      "Epoch 177/400\n",
      "1/1 [==============================] - 0s 9ms/step - loss: 255962816.0000 - accuracy: 0.0000e+00\n",
      "Epoch 178/400\n",
      "1/1 [==============================] - 0s 4ms/step - loss: 255962496.0000 - accuracy: 0.0000e+00\n",
      "Epoch 179/400\n",
      "1/1 [==============================] - 0s 4ms/step - loss: 255962192.0000 - accuracy: 0.0000e+00\n",
      "Epoch 180/400\n",
      "1/1 [==============================] - 0s 5ms/step - loss: 255961904.0000 - accuracy: 0.0000e+00\n",
      "Epoch 181/400\n",
      "1/1 [==============================] - 0s 6ms/step - loss: 255961600.0000 - accuracy: 0.0000e+00\n",
      "Epoch 182/400\n",
      "1/1 [==============================] - 0s 6ms/step - loss: 255961280.0000 - accuracy: 0.0000e+00\n",
      "Epoch 183/400\n",
      "1/1 [==============================] - 0s 5ms/step - loss: 255960976.0000 - accuracy: 0.0000e+00\n",
      "Epoch 184/400\n",
      "1/1 [==============================] - 0s 6ms/step - loss: 255960704.0000 - accuracy: 0.0000e+00\n",
      "Epoch 185/400\n",
      "1/1 [==============================] - 0s 7ms/step - loss: 255960384.0000 - accuracy: 0.0000e+00\n",
      "Epoch 186/400\n",
      "1/1 [==============================] - 0s 5ms/step - loss: 255960112.0000 - accuracy: 0.0000e+00\n",
      "Epoch 187/400\n",
      "1/1 [==============================] - 0s 6ms/step - loss: 255959760.0000 - accuracy: 0.0000e+00\n",
      "Epoch 188/400\n",
      "1/1 [==============================] - 0s 8ms/step - loss: 255959488.0000 - accuracy: 0.0000e+00\n",
      "Epoch 189/400\n",
      "1/1 [==============================] - 0s 4ms/step - loss: 255959168.0000 - accuracy: 0.0000e+00\n",
      "Epoch 190/400\n",
      "1/1 [==============================] - 0s 23ms/step - loss: 255958896.0000 - accuracy: 0.0000e+00\n",
      "Epoch 191/400\n",
      "1/1 [==============================] - 0s 12ms/step - loss: 255958592.0000 - accuracy: 0.0000e+00\n",
      "Epoch 192/400\n",
      "1/1 [==============================] - 0s 5ms/step - loss: 255958288.0000 - accuracy: 0.0000e+00\n",
      "Epoch 193/400\n",
      "1/1 [==============================] - 0s 9ms/step - loss: 255958016.0000 - accuracy: 0.0000e+00\n",
      "Epoch 194/400\n",
      "1/1 [==============================] - 0s 8ms/step - loss: 255957696.0000 - accuracy: 0.0000e+00\n",
      "Epoch 195/400\n",
      "1/1 [==============================] - 0s 6ms/step - loss: 255957424.0000 - accuracy: 0.0000e+00\n",
      "Epoch 196/400\n",
      "1/1 [==============================] - 0s 9ms/step - loss: 255957120.0000 - accuracy: 0.0000e+00\n",
      "Epoch 197/400\n",
      "1/1 [==============================] - 0s 18ms/step - loss: 255956816.0000 - accuracy: 0.0000e+00\n",
      "Epoch 198/400\n",
      "1/1 [==============================] - 0s 6ms/step - loss: 255956528.0000 - accuracy: 0.0000e+00\n",
      "Epoch 199/400\n",
      "1/1 [==============================] - 0s 7ms/step - loss: 255956208.0000 - accuracy: 0.0000e+00\n",
      "Epoch 200/400\n",
      "1/1 [==============================] - 0s 7ms/step - loss: 255955920.0000 - accuracy: 0.0000e+00\n",
      "Epoch 201/400\n",
      "1/1 [==============================] - 0s 10ms/step - loss: 255955632.0000 - accuracy: 0.0000e+00\n",
      "Epoch 202/400\n",
      "1/1 [==============================] - 0s 9ms/step - loss: 255955376.0000 - accuracy: 0.0000e+00\n",
      "Epoch 203/400\n",
      "1/1 [==============================] - 0s 6ms/step - loss: 255955024.0000 - accuracy: 0.0000e+00\n",
      "Epoch 204/400\n",
      "1/1 [==============================] - 0s 33ms/step - loss: 255954752.0000 - accuracy: 0.0000e+00\n",
      "Epoch 205/400\n",
      "1/1 [==============================] - 0s 5ms/step - loss: 255954480.0000 - accuracy: 0.0000e+00\n",
      "Epoch 206/400\n",
      "1/1 [==============================] - 0s 6ms/step - loss: 255954176.0000 - accuracy: 0.0000e+00\n",
      "Epoch 207/400\n",
      "1/1 [==============================] - 0s 5ms/step - loss: 255953872.0000 - accuracy: 0.0000e+00\n",
      "Epoch 208/400\n",
      "1/1 [==============================] - 0s 7ms/step - loss: 255953584.0000 - accuracy: 0.0000e+00\n",
      "Epoch 209/400\n",
      "1/1 [==============================] - 0s 8ms/step - loss: 255953280.0000 - accuracy: 0.0000e+00\n",
      "Epoch 210/400\n",
      "1/1 [==============================] - 0s 5ms/step - loss: 255952976.0000 - accuracy: 0.0000e+00\n",
      "Epoch 211/400\n",
      "1/1 [==============================] - 0s 21ms/step - loss: 255952704.0000 - accuracy: 0.0000e+00\n",
      "Epoch 212/400\n",
      "1/1 [==============================] - 0s 6ms/step - loss: 255952400.0000 - accuracy: 0.0000e+00\n",
      "Epoch 213/400\n",
      "1/1 [==============================] - 0s 5ms/step - loss: 255952128.0000 - accuracy: 0.0000e+00\n",
      "Epoch 214/400\n",
      "1/1 [==============================] - 0s 6ms/step - loss: 255951824.0000 - accuracy: 0.0000e+00\n",
      "Epoch 215/400\n",
      "1/1 [==============================] - 0s 5ms/step - loss: 255951536.0000 - accuracy: 0.0000e+00\n",
      "Epoch 216/400\n",
      "1/1 [==============================] - 0s 7ms/step - loss: 255951232.0000 - accuracy: 0.0000e+00\n",
      "Epoch 217/400\n",
      "1/1 [==============================] - 0s 6ms/step - loss: 255950976.0000 - accuracy: 0.0000e+00\n",
      "Epoch 218/400\n",
      "1/1 [==============================] - 0s 20ms/step - loss: 255950656.0000 - accuracy: 0.0000e+00\n",
      "Epoch 219/400\n",
      "1/1 [==============================] - 0s 4ms/step - loss: 255950384.0000 - accuracy: 0.0000e+00\n",
      "Epoch 220/400\n",
      "1/1 [==============================] - 0s 6ms/step - loss: 255950080.0000 - accuracy: 0.0000e+00\n",
      "Epoch 221/400\n",
      "1/1 [==============================] - 0s 5ms/step - loss: 255949776.0000 - accuracy: 0.0000e+00\n",
      "Epoch 222/400\n"
     ]
    },
    {
     "name": "stdout",
     "output_type": "stream",
     "text": [
      "1/1 [==============================] - 0s 7ms/step - loss: 255949488.0000 - accuracy: 0.0000e+00\n",
      "Epoch 223/400\n",
      "1/1 [==============================] - 0s 4ms/step - loss: 255949200.0000 - accuracy: 0.0000e+00\n",
      "Epoch 224/400\n",
      "1/1 [==============================] - 0s 9ms/step - loss: 255948928.0000 - accuracy: 0.0000e+00\n",
      "Epoch 225/400\n",
      "1/1 [==============================] - 0s 20ms/step - loss: 255948624.0000 - accuracy: 0.0000e+00\n",
      "Epoch 226/400\n",
      "1/1 [==============================] - 0s 4ms/step - loss: 255948336.0000 - accuracy: 0.0000e+00\n",
      "Epoch 227/400\n",
      "1/1 [==============================] - 0s 7ms/step - loss: 255948032.0000 - accuracy: 0.0000e+00\n",
      "Epoch 228/400\n",
      "1/1 [==============================] - 0s 6ms/step - loss: 255947728.0000 - accuracy: 0.0000e+00\n",
      "Epoch 229/400\n",
      "1/1 [==============================] - 0s 8ms/step - loss: 255947472.0000 - accuracy: 0.0000e+00\n",
      "Epoch 230/400\n",
      "1/1 [==============================] - 0s 5ms/step - loss: 255947152.0000 - accuracy: 0.0000e+00\n",
      "Epoch 231/400\n",
      "1/1 [==============================] - 0s 5ms/step - loss: 255946880.0000 - accuracy: 0.0000e+00\n",
      "Epoch 232/400\n",
      "1/1 [==============================] - 0s 19ms/step - loss: 255946576.0000 - accuracy: 0.0000e+00\n",
      "Epoch 233/400\n",
      "1/1 [==============================] - 0s 8ms/step - loss: 255946288.0000 - accuracy: 0.0000e+00\n",
      "Epoch 234/400\n",
      "1/1 [==============================] - 0s 9ms/step - loss: 255946032.0000 - accuracy: 0.0000e+00\n",
      "Epoch 235/400\n",
      "1/1 [==============================] - 0s 5ms/step - loss: 255945712.0000 - accuracy: 0.0000e+00\n",
      "Epoch 236/400\n",
      "1/1 [==============================] - 0s 5ms/step - loss: 255945424.0000 - accuracy: 0.0000e+00\n",
      "Epoch 237/400\n",
      "1/1 [==============================] - 0s 4ms/step - loss: 255945152.0000 - accuracy: 0.0000e+00\n",
      "Epoch 238/400\n",
      "1/1 [==============================] - 0s 4ms/step - loss: 255944848.0000 - accuracy: 0.0000e+00\n",
      "Epoch 239/400\n",
      "1/1 [==============================] - 0s 5ms/step - loss: 255944528.0000 - accuracy: 0.0000e+00\n",
      "Epoch 240/400\n",
      "1/1 [==============================] - 0s 5ms/step - loss: 255944256.0000 - accuracy: 0.0000e+00\n",
      "Epoch 241/400\n",
      "1/1 [==============================] - 0s 9ms/step - loss: 255943984.0000 - accuracy: 0.0000e+00\n",
      "Epoch 242/400\n",
      "1/1 [==============================] - 0s 5ms/step - loss: 255943680.0000 - accuracy: 0.0000e+00\n",
      "Epoch 243/400\n",
      "1/1 [==============================] - 0s 11ms/step - loss: 255943376.0000 - accuracy: 0.0000e+00\n",
      "Epoch 244/400\n",
      "1/1 [==============================] - 0s 6ms/step - loss: 255943104.0000 - accuracy: 0.0000e+00\n",
      "Epoch 245/400\n",
      "1/1 [==============================] - 0s 53ms/step - loss: 255942832.0000 - accuracy: 0.0000e+00\n",
      "Epoch 246/400\n",
      "1/1 [==============================] - 0s 11ms/step - loss: 255942528.0000 - accuracy: 0.0000e+00\n",
      "Epoch 247/400\n",
      "1/1 [==============================] - 0s 10ms/step - loss: 255942224.0000 - accuracy: 0.0000e+00\n",
      "Epoch 248/400\n",
      "1/1 [==============================] - 0s 5ms/step - loss: 255941936.0000 - accuracy: 0.0000e+00\n",
      "Epoch 249/400\n",
      "1/1 [==============================] - 0s 5ms/step - loss: 255941680.0000 - accuracy: 0.0000e+00\n",
      "Epoch 250/400\n",
      "1/1 [==============================] - 0s 6ms/step - loss: 255941376.0000 - accuracy: 0.0000e+00\n",
      "Epoch 251/400\n",
      "1/1 [==============================] - 0s 15ms/step - loss: 255941072.0000 - accuracy: 0.0000e+00\n",
      "Epoch 252/400\n",
      "1/1 [==============================] - 0s 5ms/step - loss: 255940800.0000 - accuracy: 0.0000e+00\n",
      "Epoch 253/400\n",
      "1/1 [==============================] - 0s 9ms/step - loss: 255940496.0000 - accuracy: 0.0000e+00\n",
      "Epoch 254/400\n",
      "1/1 [==============================] - 0s 5ms/step - loss: 255940208.0000 - accuracy: 0.0000e+00\n",
      "Epoch 255/400\n",
      "1/1 [==============================] - 0s 5ms/step - loss: 255939920.0000 - accuracy: 0.0000e+00\n",
      "Epoch 256/400\n",
      "1/1 [==============================] - 0s 5ms/step - loss: 255939632.0000 - accuracy: 0.0000e+00\n",
      "Epoch 257/400\n",
      "1/1 [==============================] - 0s 5ms/step - loss: 255939344.0000 - accuracy: 0.0000e+00\n",
      "Epoch 258/400\n",
      "1/1 [==============================] - 0s 25ms/step - loss: 255939056.0000 - accuracy: 0.0000e+00\n",
      "Epoch 259/400\n",
      "1/1 [==============================] - 0s 7ms/step - loss: 255938768.0000 - accuracy: 0.0000e+00\n",
      "Epoch 260/400\n",
      "1/1 [==============================] - 0s 7ms/step - loss: 255938480.0000 - accuracy: 0.0000e+00\n",
      "Epoch 261/400\n",
      "1/1 [==============================] - 0s 9ms/step - loss: 255938192.0000 - accuracy: 0.0000e+00\n",
      "Epoch 262/400\n",
      "1/1 [==============================] - 0s 4ms/step - loss: 255937904.0000 - accuracy: 0.0000e+00\n",
      "Epoch 263/400\n",
      "1/1 [==============================] - 0s 7ms/step - loss: 255937584.0000 - accuracy: 0.0000e+00\n",
      "Epoch 264/400\n",
      "1/1 [==============================] - 0s 12ms/step - loss: 255937328.0000 - accuracy: 0.0000e+00\n",
      "Epoch 265/400\n",
      "1/1 [==============================] - 0s 46ms/step - loss: 255937008.0000 - accuracy: 0.0000e+00\n",
      "Epoch 266/400\n",
      "1/1 [==============================] - 0s 8ms/step - loss: 255936720.0000 - accuracy: 0.0000e+00\n",
      "Epoch 267/400\n",
      "1/1 [==============================] - 0s 6ms/step - loss: 255936432.0000 - accuracy: 0.0000e+00\n",
      "Epoch 268/400\n",
      "1/1 [==============================] - 0s 4ms/step - loss: 255936144.0000 - accuracy: 0.0000e+00\n",
      "Epoch 269/400\n",
      "1/1 [==============================] - 0s 5ms/step - loss: 255935872.0000 - accuracy: 0.0000e+00\n",
      "Epoch 270/400\n",
      "1/1 [==============================] - 0s 5ms/step - loss: 255935568.0000 - accuracy: 0.0000e+00\n",
      "Epoch 271/400\n",
      "1/1 [==============================] - 0s 5ms/step - loss: 255935280.0000 - accuracy: 0.0000e+00\n",
      "Epoch 272/400\n",
      "1/1 [==============================] - 0s 5ms/step - loss: 255934976.0000 - accuracy: 0.0000e+00\n",
      "Epoch 273/400\n",
      "1/1 [==============================] - 0s 4ms/step - loss: 255934704.0000 - accuracy: 0.0000e+00\n",
      "Epoch 274/400\n",
      "1/1 [==============================] - 0s 9ms/step - loss: 255934416.0000 - accuracy: 0.0000e+00\n",
      "Epoch 275/400\n",
      "1/1 [==============================] - 0s 6ms/step - loss: 255934128.0000 - accuracy: 0.0000e+00\n",
      "Epoch 276/400\n",
      "1/1 [==============================] - 0s 5ms/step - loss: 255933824.0000 - accuracy: 0.0000e+00\n",
      "Epoch 277/400\n",
      "1/1 [==============================] - 0s 8ms/step - loss: 255933552.0000 - accuracy: 0.0000e+00\n",
      "Epoch 278/400\n",
      "1/1 [==============================] - 0s 66ms/step - loss: 255933248.0000 - accuracy: 0.0000e+00\n",
      "Epoch 279/400\n",
      "1/1 [==============================] - 0s 5ms/step - loss: 255932976.0000 - accuracy: 0.0000e+00\n",
      "Epoch 280/400\n",
      "1/1 [==============================] - 0s 6ms/step - loss: 255932672.0000 - accuracy: 0.0000e+00\n",
      "Epoch 281/400\n",
      "1/1 [==============================] - 0s 6ms/step - loss: 255932368.0000 - accuracy: 0.0000e+00\n",
      "Epoch 282/400\n",
      "1/1 [==============================] - 0s 7ms/step - loss: 255932096.0000 - accuracy: 0.0000e+00\n",
      "Epoch 283/400\n",
      "1/1 [==============================] - 0s 5ms/step - loss: 255931824.0000 - accuracy: 0.0000e+00\n",
      "Epoch 284/400\n",
      "1/1 [==============================] - 0s 5ms/step - loss: 255931520.0000 - accuracy: 0.0000e+00\n",
      "Epoch 285/400\n",
      "1/1 [==============================] - 0s 32ms/step - loss: 255931248.0000 - accuracy: 0.0000e+00\n",
      "Epoch 286/400\n",
      "1/1 [==============================] - 0s 6ms/step - loss: 255930928.0000 - accuracy: 0.0000e+00\n",
      "Epoch 287/400\n",
      "1/1 [==============================] - 0s 9ms/step - loss: 255930624.0000 - accuracy: 0.0000e+00\n",
      "Epoch 288/400\n",
      "1/1 [==============================] - 0s 5ms/step - loss: 255930368.0000 - accuracy: 0.0000e+00\n",
      "Epoch 289/400\n",
      "1/1 [==============================] - 0s 7ms/step - loss: 255930064.0000 - accuracy: 0.0000e+00\n",
      "Epoch 290/400\n",
      "1/1 [==============================] - 0s 11ms/step - loss: 255929792.0000 - accuracy: 0.0000e+00\n",
      "Epoch 291/400\n",
      "1/1 [==============================] - 0s 9ms/step - loss: 255929488.0000 - accuracy: 0.0000e+00\n",
      "Epoch 292/400\n",
      "1/1 [==============================] - 0s 6ms/step - loss: 255929216.0000 - accuracy: 0.0000e+00\n",
      "Epoch 293/400\n",
      "1/1 [==============================] - 0s 5ms/step - loss: 255928912.0000 - accuracy: 0.0000e+00\n",
      "Epoch 294/400\n",
      "1/1 [==============================] - 0s 8ms/step - loss: 255928624.0000 - accuracy: 0.0000e+00\n",
      "Epoch 295/400\n"
     ]
    },
    {
     "name": "stdout",
     "output_type": "stream",
     "text": [
      "1/1 [==============================] - 0s 9ms/step - loss: 255928320.0000 - accuracy: 0.0000e+00\n",
      "Epoch 296/400\n",
      "1/1 [==============================] - 0s 5ms/step - loss: 255928048.0000 - accuracy: 0.0000e+00\n",
      "Epoch 297/400\n",
      "1/1 [==============================] - 0s 6ms/step - loss: 255927760.0000 - accuracy: 0.0000e+00\n",
      "Epoch 298/400\n",
      "1/1 [==============================] - 0s 8ms/step - loss: 255927472.0000 - accuracy: 0.0000e+00\n",
      "Epoch 299/400\n",
      "1/1 [==============================] - 0s 7ms/step - loss: 255927168.0000 - accuracy: 0.0000e+00\n",
      "Epoch 300/400\n",
      "1/1 [==============================] - 0s 6ms/step - loss: 255926896.0000 - accuracy: 0.0000e+00\n",
      "Epoch 301/400\n",
      "1/1 [==============================] - 0s 9ms/step - loss: 255926608.0000 - accuracy: 0.0000e+00\n",
      "Epoch 302/400\n",
      "1/1 [==============================] - 0s 9ms/step - loss: 255926320.0000 - accuracy: 0.0000e+00\n",
      "Epoch 303/400\n",
      "1/1 [==============================] - 0s 5ms/step - loss: 255926016.0000 - accuracy: 0.0000e+00\n",
      "Epoch 304/400\n",
      "1/1 [==============================] - 0s 6ms/step - loss: 255925712.0000 - accuracy: 0.0000e+00\n",
      "Epoch 305/400\n",
      "1/1 [==============================] - 0s 29ms/step - loss: 255925456.0000 - accuracy: 0.0000e+00\n",
      "Epoch 306/400\n",
      "1/1 [==============================] - 0s 12ms/step - loss: 255925168.0000 - accuracy: 0.0000e+00\n",
      "Epoch 307/400\n",
      "1/1 [==============================] - 0s 22ms/step - loss: 255924864.0000 - accuracy: 0.0000e+00\n",
      "Epoch 308/400\n",
      "1/1 [==============================] - 0s 6ms/step - loss: 255924560.0000 - accuracy: 0.0000e+00\n",
      "Epoch 309/400\n",
      "1/1 [==============================] - 0s 10ms/step - loss: 255924272.0000 - accuracy: 0.0000e+00\n",
      "Epoch 310/400\n",
      "1/1 [==============================] - 0s 5ms/step - loss: 255923984.0000 - accuracy: 0.0000e+00\n",
      "Epoch 311/400\n",
      "1/1 [==============================] - 0s 10ms/step - loss: 255923712.0000 - accuracy: 0.0000e+00\n",
      "Epoch 312/400\n",
      "1/1 [==============================] - 0s 7ms/step - loss: 255923408.0000 - accuracy: 0.0000e+00\n",
      "Epoch 313/400\n",
      "1/1 [==============================] - 0s 5ms/step - loss: 255923120.0000 - accuracy: 0.0000e+00\n",
      "Epoch 314/400\n",
      "1/1 [==============================] - 0s 5ms/step - loss: 255922864.0000 - accuracy: 0.0000e+00\n",
      "Epoch 315/400\n",
      "1/1 [==============================] - 0s 4ms/step - loss: 255922544.0000 - accuracy: 0.0000e+00\n",
      "Epoch 316/400\n",
      "1/1 [==============================] - 0s 6ms/step - loss: 255922256.0000 - accuracy: 0.0000e+00\n",
      "Epoch 317/400\n",
      "1/1 [==============================] - 0s 8ms/step - loss: 255921968.0000 - accuracy: 0.0000e+00\n",
      "Epoch 318/400\n",
      "1/1 [==============================] - 0s 39ms/step - loss: 255921664.0000 - accuracy: 0.0000e+00\n",
      "Epoch 319/400\n",
      "1/1 [==============================] - 0s 8ms/step - loss: 255921360.0000 - accuracy: 0.0000e+00\n",
      "Epoch 320/400\n",
      "1/1 [==============================] - 0s 9ms/step - loss: 255921104.0000 - accuracy: 0.0000e+00\n",
      "Epoch 321/400\n",
      "1/1 [==============================] - 0s 6ms/step - loss: 255920784.0000 - accuracy: 0.0000e+00\n",
      "Epoch 322/400\n",
      "1/1 [==============================] - 0s 9ms/step - loss: 255920528.0000 - accuracy: 0.0000e+00\n",
      "Epoch 323/400\n",
      "1/1 [==============================] - 0s 6ms/step - loss: 255920256.0000 - accuracy: 0.0000e+00\n",
      "Epoch 324/400\n",
      "1/1 [==============================] - 0s 5ms/step - loss: 255919952.0000 - accuracy: 0.0000e+00\n",
      "Epoch 325/400\n",
      "1/1 [==============================] - 0s 14ms/step - loss: 255919664.0000 - accuracy: 0.0000e+00\n",
      "Epoch 326/400\n",
      "1/1 [==============================] - 0s 8ms/step - loss: 255919360.0000 - accuracy: 0.0000e+00\n",
      "Epoch 327/400\n",
      "1/1 [==============================] - 0s 5ms/step - loss: 255919056.0000 - accuracy: 0.0000e+00\n",
      "Epoch 328/400\n",
      "1/1 [==============================] - 0s 11ms/step - loss: 255918784.0000 - accuracy: 0.0000e+00\n",
      "Epoch 329/400\n",
      "1/1 [==============================] - 0s 9ms/step - loss: 255918512.0000 - accuracy: 0.0000e+00\n",
      "Epoch 330/400\n",
      "1/1 [==============================] - 0s 7ms/step - loss: 255918208.0000 - accuracy: 0.0000e+00\n",
      "Epoch 331/400\n",
      "1/1 [==============================] - 0s 52ms/step - loss: 255917904.0000 - accuracy: 0.0000e+00\n",
      "Epoch 332/400\n",
      "1/1 [==============================] - 0s 9ms/step - loss: 255917632.0000 - accuracy: 0.0000e+00\n",
      "Epoch 333/400\n",
      "1/1 [==============================] - 0s 6ms/step - loss: 255917328.0000 - accuracy: 0.0000e+00\n",
      "Epoch 334/400\n",
      "1/1 [==============================] - 0s 6ms/step - loss: 255917056.0000 - accuracy: 0.0000e+00\n",
      "Epoch 335/400\n",
      "1/1 [==============================] - 0s 8ms/step - loss: 255916752.0000 - accuracy: 0.0000e+00\n",
      "Epoch 336/400\n",
      "1/1 [==============================] - 0s 5ms/step - loss: 255916480.0000 - accuracy: 0.0000e+00\n",
      "Epoch 337/400\n",
      "1/1 [==============================] - 0s 8ms/step - loss: 255916176.0000 - accuracy: 0.0000e+00\n",
      "Epoch 338/400\n",
      "1/1 [==============================] - 0s 21ms/step - loss: 255915904.0000 - accuracy: 0.0000e+00\n",
      "Epoch 339/400\n",
      "1/1 [==============================] - 0s 6ms/step - loss: 255915600.0000 - accuracy: 0.0000e+00\n",
      "Epoch 340/400\n",
      "1/1 [==============================] - 0s 5ms/step - loss: 255915312.0000 - accuracy: 0.0000e+00\n",
      "Epoch 341/400\n",
      "1/1 [==============================] - 0s 5ms/step - loss: 255915008.0000 - accuracy: 0.0000e+00\n",
      "Epoch 342/400\n",
      "1/1 [==============================] - 0s 6ms/step - loss: 255914752.0000 - accuracy: 0.0000e+00\n",
      "Epoch 343/400\n",
      "1/1 [==============================] - 0s 6ms/step - loss: 255914448.0000 - accuracy: 0.0000e+00\n",
      "Epoch 344/400\n",
      "1/1 [==============================] - 0s 6ms/step - loss: 255914160.0000 - accuracy: 0.0000e+00\n",
      "Epoch 345/400\n",
      "1/1 [==============================] - 0s 38ms/step - loss: 255913856.0000 - accuracy: 0.0000e+00\n",
      "Epoch 346/400\n",
      "1/1 [==============================] - 0s 5ms/step - loss: 255913584.0000 - accuracy: 0.0000e+00\n",
      "Epoch 347/400\n",
      "1/1 [==============================] - 0s 9ms/step - loss: 255913296.0000 - accuracy: 0.0000e+00\n",
      "Epoch 348/400\n",
      "1/1 [==============================] - 0s 7ms/step - loss: 255913008.0000 - accuracy: 0.0000e+00\n",
      "Epoch 349/400\n",
      "1/1 [==============================] - 0s 5ms/step - loss: 255912704.0000 - accuracy: 0.0000e+00\n",
      "Epoch 350/400\n",
      "1/1 [==============================] - 0s 5ms/step - loss: 255912400.0000 - accuracy: 0.0000e+00\n",
      "Epoch 351/400\n",
      "1/1 [==============================] - 0s 6ms/step - loss: 255912112.0000 - accuracy: 0.0000e+00\n",
      "Epoch 352/400\n",
      "1/1 [==============================] - 0s 26ms/step - loss: 255911824.0000 - accuracy: 0.0000e+00\n",
      "Epoch 353/400\n",
      "1/1 [==============================] - 0s 5ms/step - loss: 255911552.0000 - accuracy: 0.0000e+00\n",
      "Epoch 354/400\n",
      "1/1 [==============================] - 0s 6ms/step - loss: 255911248.0000 - accuracy: 0.0000e+00\n",
      "Epoch 355/400\n",
      "1/1 [==============================] - 0s 5ms/step - loss: 255910960.0000 - accuracy: 0.0000e+00\n",
      "Epoch 356/400\n",
      "1/1 [==============================] - 0s 7ms/step - loss: 255910672.0000 - accuracy: 0.0000e+00\n",
      "Epoch 357/400\n",
      "1/1 [==============================] - 0s 7ms/step - loss: 255910400.0000 - accuracy: 0.0000e+00\n",
      "Epoch 358/400\n",
      "1/1 [==============================] - 0s 4ms/step - loss: 255910096.0000 - accuracy: 0.0000e+00\n",
      "Epoch 359/400\n",
      "1/1 [==============================] - 0s 4ms/step - loss: 255909824.0000 - accuracy: 0.0000e+00\n",
      "Epoch 360/400\n",
      "1/1 [==============================] - 0s 7ms/step - loss: 255909520.0000 - accuracy: 0.0000e+00\n",
      "Epoch 361/400\n",
      "1/1 [==============================] - 0s 4ms/step - loss: 255909248.0000 - accuracy: 0.0000e+00\n",
      "Epoch 362/400\n",
      "1/1 [==============================] - 0s 9ms/step - loss: 255908944.0000 - accuracy: 0.0000e+00\n",
      "Epoch 363/400\n",
      "1/1 [==============================] - 0s 9ms/step - loss: 255908656.0000 - accuracy: 0.0000e+00\n",
      "Epoch 364/400\n",
      "1/1 [==============================] - 0s 7ms/step - loss: 255908368.0000 - accuracy: 0.0000e+00\n",
      "Epoch 365/400\n",
      "1/1 [==============================] - 0s 8ms/step - loss: 255908080.0000 - accuracy: 0.0000e+00\n",
      "Epoch 366/400\n",
      "1/1 [==============================] - 0s 24ms/step - loss: 255907792.0000 - accuracy: 0.0000e+00\n",
      "Epoch 367/400\n",
      "1/1 [==============================] - 0s 6ms/step - loss: 255907520.0000 - accuracy: 0.0000e+00\n",
      "Epoch 368/400\n"
     ]
    },
    {
     "name": "stdout",
     "output_type": "stream",
     "text": [
      "1/1 [==============================] - 0s 5ms/step - loss: 255907216.0000 - accuracy: 0.0000e+00\n",
      "Epoch 369/400\n",
      "1/1 [==============================] - 0s 8ms/step - loss: 255906944.0000 - accuracy: 0.0000e+00\n",
      "Epoch 370/400\n",
      "1/1 [==============================] - 0s 9ms/step - loss: 255906640.0000 - accuracy: 0.0000e+00\n",
      "Epoch 371/400\n",
      "1/1 [==============================] - 0s 7ms/step - loss: 255906352.0000 - accuracy: 0.0000e+00\n",
      "Epoch 372/400\n",
      "1/1 [==============================] - 0s 64ms/step - loss: 255906048.0000 - accuracy: 0.0000e+00\n",
      "Epoch 373/400\n",
      "1/1 [==============================] - 0s 5ms/step - loss: 255905744.0000 - accuracy: 0.0000e+00\n",
      "Epoch 374/400\n",
      "1/1 [==============================] - 0s 7ms/step - loss: 255905488.0000 - accuracy: 0.0000e+00\n",
      "Epoch 375/400\n",
      "1/1 [==============================] - 0s 6ms/step - loss: 255905168.0000 - accuracy: 0.0000e+00\n",
      "Epoch 376/400\n",
      "1/1 [==============================] - 0s 6ms/step - loss: 255904896.0000 - accuracy: 0.0000e+00\n",
      "Epoch 377/400\n",
      "1/1 [==============================] - 0s 25ms/step - loss: 255904592.0000 - accuracy: 0.0000e+00\n",
      "Epoch 378/400\n",
      "1/1 [==============================] - 0s 37ms/step - loss: 255904320.0000 - accuracy: 0.0000e+00\n",
      "Epoch 379/400\n",
      "1/1 [==============================] - 0s 8ms/step - loss: 255904016.0000 - accuracy: 0.0000e+00\n",
      "Epoch 380/400\n",
      "1/1 [==============================] - 0s 4ms/step - loss: 255903744.0000 - accuracy: 0.0000e+00\n",
      "Epoch 381/400\n",
      "1/1 [==============================] - 0s 6ms/step - loss: 255903440.0000 - accuracy: 0.0000e+00\n",
      "Epoch 382/400\n",
      "1/1 [==============================] - 0s 5ms/step - loss: 255903168.0000 - accuracy: 0.0000e+00\n",
      "Epoch 383/400\n",
      "1/1 [==============================] - 0s 5ms/step - loss: 255902864.0000 - accuracy: 0.0000e+00\n",
      "Epoch 384/400\n",
      "1/1 [==============================] - 0s 5ms/step - loss: 255902592.0000 - accuracy: 0.0000e+00\n",
      "Epoch 385/400\n",
      "1/1 [==============================] - 0s 5ms/step - loss: 255902288.0000 - accuracy: 0.0000e+00\n",
      "Epoch 386/400\n",
      "1/1 [==============================] - 0s 20ms/step - loss: 255902000.0000 - accuracy: 0.0000e+00\n",
      "Epoch 387/400\n",
      "1/1 [==============================] - 0s 6ms/step - loss: 255901744.0000 - accuracy: 0.0000e+00\n",
      "Epoch 388/400\n",
      "1/1 [==============================] - 0s 8ms/step - loss: 255901424.0000 - accuracy: 0.0000e+00\n",
      "Epoch 389/400\n",
      "1/1 [==============================] - 0s 6ms/step - loss: 255901136.0000 - accuracy: 0.0000e+00\n",
      "Epoch 390/400\n",
      "1/1 [==============================] - 0s 5ms/step - loss: 255900848.0000 - accuracy: 0.0000e+00\n",
      "Epoch 391/400\n",
      "1/1 [==============================] - 0s 6ms/step - loss: 255900560.0000 - accuracy: 0.0000e+00\n",
      "Epoch 392/400\n",
      "1/1 [==============================] - 0s 50ms/step - loss: 255900272.0000 - accuracy: 0.0000e+00\n",
      "Epoch 393/400\n",
      "1/1 [==============================] - 0s 6ms/step - loss: 255899968.0000 - accuracy: 0.0000e+00\n",
      "Epoch 394/400\n",
      "1/1 [==============================] - 0s 15ms/step - loss: 255899696.0000 - accuracy: 0.0000e+00\n",
      "Epoch 395/400\n",
      "1/1 [==============================] - 0s 8ms/step - loss: 255899392.0000 - accuracy: 0.0000e+00\n",
      "Epoch 396/400\n",
      "1/1 [==============================] - 0s 4ms/step - loss: 255899120.0000 - accuracy: 0.0000e+00\n",
      "Epoch 397/400\n",
      "1/1 [==============================] - 0s 5ms/step - loss: 255898816.0000 - accuracy: 0.0000e+00\n",
      "Epoch 398/400\n",
      "1/1 [==============================] - 0s 5ms/step - loss: 255898544.0000 - accuracy: 0.0000e+00\n",
      "Epoch 399/400\n",
      "1/1 [==============================] - 0s 6ms/step - loss: 255898240.0000 - accuracy: 0.0000e+00\n",
      "Epoch 400/400\n",
      "1/1 [==============================] - 0s 4ms/step - loss: 255897968.0000 - accuracy: 0.0000e+00\n",
      "CPU times: total: 0 ns\n",
      "Wall time: 0 ns\n"
     ]
    }
   ],
   "source": [
    "model.fit(X_train,y_train,\n",
    "          \n",
    "          batch_size=128,epochs=400) ##batchsize auf 128 setzen\n",
    "%time"
   ]
  },
  {
   "cell_type": "code",
   "execution_count": 40,
   "id": "6f8cd01c",
   "metadata": {},
   "outputs": [
    {
     "name": "stdout",
     "output_type": "stream",
     "text": [
      "1/1 [==============================] - 0s 26ms/step - loss: 255997056.0000\n"
     ]
    }
   ],
   "source": [
    "eval=model.evaluate(X_train,y_train)"
   ]
  },
  {
   "cell_type": "code",
   "execution_count": 33,
   "id": "ae03ff05",
   "metadata": {},
   "outputs": [
    {
     "name": "stdout",
     "output_type": "stream",
     "text": [
      "255999440.0\n"
     ]
    }
   ],
   "source": [
    "print(eval)"
   ]
  },
  {
   "cell_type": "code",
   "execution_count": 34,
   "id": "0798b6aa",
   "metadata": {},
   "outputs": [],
   "source": [
    "losses=pd.DataFrame(model.history.history)"
   ]
  },
  {
   "cell_type": "code",
   "execution_count": 35,
   "id": "159670ff",
   "metadata": {},
   "outputs": [
    {
     "ename": "TypeError",
     "evalue": "no numeric data to plot",
     "output_type": "error",
     "traceback": [
      "\u001b[1;31m---------------------------------------------------------------------------\u001b[0m",
      "\u001b[1;31mTypeError\u001b[0m                                 Traceback (most recent call last)",
      "Input \u001b[1;32mIn [35]\u001b[0m, in \u001b[0;36m<cell line: 1>\u001b[1;34m()\u001b[0m\n\u001b[1;32m----> 1\u001b[0m \u001b[43mlosses\u001b[49m\u001b[38;5;241;43m.\u001b[39;49m\u001b[43mplot\u001b[49m\u001b[43m(\u001b[49m\u001b[43m)\u001b[49m\n",
      "File \u001b[1;32m~\\anaconda3\\lib\\site-packages\\pandas\\plotting\\_core.py:972\u001b[0m, in \u001b[0;36mPlotAccessor.__call__\u001b[1;34m(self, *args, **kwargs)\u001b[0m\n\u001b[0;32m    969\u001b[0m             label_name \u001b[38;5;241m=\u001b[39m label_kw \u001b[38;5;129;01mor\u001b[39;00m data\u001b[38;5;241m.\u001b[39mcolumns\n\u001b[0;32m    970\u001b[0m             data\u001b[38;5;241m.\u001b[39mcolumns \u001b[38;5;241m=\u001b[39m label_name\n\u001b[1;32m--> 972\u001b[0m \u001b[38;5;28;01mreturn\u001b[39;00m plot_backend\u001b[38;5;241m.\u001b[39mplot(data, kind\u001b[38;5;241m=\u001b[39mkind, \u001b[38;5;241m*\u001b[39m\u001b[38;5;241m*\u001b[39mkwargs)\n",
      "File \u001b[1;32m~\\anaconda3\\lib\\site-packages\\pandas\\plotting\\_matplotlib\\__init__.py:71\u001b[0m, in \u001b[0;36mplot\u001b[1;34m(data, kind, **kwargs)\u001b[0m\n\u001b[0;32m     69\u001b[0m         kwargs[\u001b[38;5;124m\"\u001b[39m\u001b[38;5;124max\u001b[39m\u001b[38;5;124m\"\u001b[39m] \u001b[38;5;241m=\u001b[39m \u001b[38;5;28mgetattr\u001b[39m(ax, \u001b[38;5;124m\"\u001b[39m\u001b[38;5;124mleft_ax\u001b[39m\u001b[38;5;124m\"\u001b[39m, ax)\n\u001b[0;32m     70\u001b[0m plot_obj \u001b[38;5;241m=\u001b[39m PLOT_CLASSES[kind](data, \u001b[38;5;241m*\u001b[39m\u001b[38;5;241m*\u001b[39mkwargs)\n\u001b[1;32m---> 71\u001b[0m \u001b[43mplot_obj\u001b[49m\u001b[38;5;241;43m.\u001b[39;49m\u001b[43mgenerate\u001b[49m\u001b[43m(\u001b[49m\u001b[43m)\u001b[49m\n\u001b[0;32m     72\u001b[0m plot_obj\u001b[38;5;241m.\u001b[39mdraw()\n\u001b[0;32m     73\u001b[0m \u001b[38;5;28;01mreturn\u001b[39;00m plot_obj\u001b[38;5;241m.\u001b[39mresult\n",
      "File \u001b[1;32m~\\anaconda3\\lib\\site-packages\\pandas\\plotting\\_matplotlib\\core.py:327\u001b[0m, in \u001b[0;36mMPLPlot.generate\u001b[1;34m(self)\u001b[0m\n\u001b[0;32m    325\u001b[0m \u001b[38;5;28;01mdef\u001b[39;00m \u001b[38;5;21mgenerate\u001b[39m(\u001b[38;5;28mself\u001b[39m):\n\u001b[0;32m    326\u001b[0m     \u001b[38;5;28mself\u001b[39m\u001b[38;5;241m.\u001b[39m_args_adjust()\n\u001b[1;32m--> 327\u001b[0m     \u001b[38;5;28;43mself\u001b[39;49m\u001b[38;5;241;43m.\u001b[39;49m\u001b[43m_compute_plot_data\u001b[49m\u001b[43m(\u001b[49m\u001b[43m)\u001b[49m\n\u001b[0;32m    328\u001b[0m     \u001b[38;5;28mself\u001b[39m\u001b[38;5;241m.\u001b[39m_setup_subplots()\n\u001b[0;32m    329\u001b[0m     \u001b[38;5;28mself\u001b[39m\u001b[38;5;241m.\u001b[39m_make_plot()\n",
      "File \u001b[1;32m~\\anaconda3\\lib\\site-packages\\pandas\\plotting\\_matplotlib\\core.py:506\u001b[0m, in \u001b[0;36mMPLPlot._compute_plot_data\u001b[1;34m(self)\u001b[0m\n\u001b[0;32m    504\u001b[0m \u001b[38;5;66;03m# no non-numeric frames or series allowed\u001b[39;00m\n\u001b[0;32m    505\u001b[0m \u001b[38;5;28;01mif\u001b[39;00m is_empty:\n\u001b[1;32m--> 506\u001b[0m     \u001b[38;5;28;01mraise\u001b[39;00m \u001b[38;5;167;01mTypeError\u001b[39;00m(\u001b[38;5;124m\"\u001b[39m\u001b[38;5;124mno numeric data to plot\u001b[39m\u001b[38;5;124m\"\u001b[39m)\n\u001b[0;32m    508\u001b[0m \u001b[38;5;28mself\u001b[39m\u001b[38;5;241m.\u001b[39mdata \u001b[38;5;241m=\u001b[39m numeric_data\u001b[38;5;241m.\u001b[39mapply(\u001b[38;5;28mself\u001b[39m\u001b[38;5;241m.\u001b[39m_convert_to_ndarray)\n",
      "\u001b[1;31mTypeError\u001b[0m: no numeric data to plot"
     ]
    }
   ],
   "source": [
    "losses.plot()"
   ]
  },
  {
   "cell_type": "code",
   "execution_count": 38,
   "id": "b6dca4ff",
   "metadata": {},
   "outputs": [
    {
     "name": "stdout",
     "output_type": "stream",
     "text": [
      "1/1 [==============================] - 0s 116ms/step\n"
     ]
    },
    {
     "data": {
      "text/plain": [
       "array([[2.333359e-38, 9.999995e-01, 1.000000e+00, 1.000000e+00,\n",
       "        1.000000e+00, 1.000000e+00, 1.000000e+00, 1.000000e+00,\n",
       "        1.000000e+00, 1.000000e+00, 1.000000e+00, 1.000000e+00,\n",
       "        1.000000e+00, 1.000000e+00, 1.000000e+00, 1.000000e+00,\n",
       "        1.410220e-16, 1.000000e+00]], dtype=float32)"
      ]
     },
     "execution_count": 38,
     "metadata": {},
     "output_type": "execute_result"
    }
   ],
   "source": [
    "model.predict([[300]])"
   ]
  },
  {
   "cell_type": "code",
   "execution_count": 37,
   "id": "25c65f18",
   "metadata": {},
   "outputs": [
    {
     "name": "stdout",
     "output_type": "stream",
     "text": [
      "1/1 [==============================] - 0s 24ms/step\n"
     ]
    },
    {
     "ename": "ValueError",
     "evalue": "x and y must be the same size",
     "output_type": "error",
     "traceback": [
      "\u001b[1;31m---------------------------------------------------------------------------\u001b[0m",
      "\u001b[1;31mValueError\u001b[0m                                Traceback (most recent call last)",
      "Input \u001b[1;32mIn [37]\u001b[0m, in \u001b[0;36m<cell line: 1>\u001b[1;34m()\u001b[0m\n\u001b[1;32m----> 1\u001b[0m \u001b[43mplt\u001b[49m\u001b[38;5;241;43m.\u001b[39;49m\u001b[43mscatter\u001b[49m\u001b[43m(\u001b[49m\u001b[43mX_train\u001b[49m\u001b[43m,\u001b[49m\u001b[43mmodel\u001b[49m\u001b[38;5;241;43m.\u001b[39;49m\u001b[43mpredict\u001b[49m\u001b[43m(\u001b[49m\u001b[43mX_train\u001b[49m\u001b[43m)\u001b[49m\u001b[43m,\u001b[49m\u001b[43malpha\u001b[49m\u001b[38;5;241;43m=\u001b[39;49m\u001b[38;5;241;43m0.5\u001b[39;49m\u001b[43m,\u001b[49m\u001b[43mlinewidths\u001b[49m\u001b[38;5;241;43m=\u001b[39;49m\u001b[38;5;241;43m5\u001b[39;49m\u001b[43m,\u001b[49m\u001b[43mc\u001b[49m\u001b[38;5;241;43m=\u001b[39;49m\u001b[38;5;124;43m\"\u001b[39;49m\u001b[38;5;124;43mr\u001b[39;49m\u001b[38;5;124;43m\"\u001b[39;49m\u001b[43m)\u001b[49m\n",
      "File \u001b[1;32m~\\anaconda3\\lib\\site-packages\\matplotlib\\pyplot.py:2807\u001b[0m, in \u001b[0;36mscatter\u001b[1;34m(x, y, s, c, marker, cmap, norm, vmin, vmax, alpha, linewidths, edgecolors, plotnonfinite, data, **kwargs)\u001b[0m\n\u001b[0;32m   2802\u001b[0m \u001b[38;5;129m@_copy_docstring_and_deprecators\u001b[39m(Axes\u001b[38;5;241m.\u001b[39mscatter)\n\u001b[0;32m   2803\u001b[0m \u001b[38;5;28;01mdef\u001b[39;00m \u001b[38;5;21mscatter\u001b[39m(\n\u001b[0;32m   2804\u001b[0m         x, y, s\u001b[38;5;241m=\u001b[39m\u001b[38;5;28;01mNone\u001b[39;00m, c\u001b[38;5;241m=\u001b[39m\u001b[38;5;28;01mNone\u001b[39;00m, marker\u001b[38;5;241m=\u001b[39m\u001b[38;5;28;01mNone\u001b[39;00m, cmap\u001b[38;5;241m=\u001b[39m\u001b[38;5;28;01mNone\u001b[39;00m, norm\u001b[38;5;241m=\u001b[39m\u001b[38;5;28;01mNone\u001b[39;00m,\n\u001b[0;32m   2805\u001b[0m         vmin\u001b[38;5;241m=\u001b[39m\u001b[38;5;28;01mNone\u001b[39;00m, vmax\u001b[38;5;241m=\u001b[39m\u001b[38;5;28;01mNone\u001b[39;00m, alpha\u001b[38;5;241m=\u001b[39m\u001b[38;5;28;01mNone\u001b[39;00m, linewidths\u001b[38;5;241m=\u001b[39m\u001b[38;5;28;01mNone\u001b[39;00m, \u001b[38;5;241m*\u001b[39m,\n\u001b[0;32m   2806\u001b[0m         edgecolors\u001b[38;5;241m=\u001b[39m\u001b[38;5;28;01mNone\u001b[39;00m, plotnonfinite\u001b[38;5;241m=\u001b[39m\u001b[38;5;28;01mFalse\u001b[39;00m, data\u001b[38;5;241m=\u001b[39m\u001b[38;5;28;01mNone\u001b[39;00m, \u001b[38;5;241m*\u001b[39m\u001b[38;5;241m*\u001b[39mkwargs):\n\u001b[1;32m-> 2807\u001b[0m     __ret \u001b[38;5;241m=\u001b[39m gca()\u001b[38;5;241m.\u001b[39mscatter(\n\u001b[0;32m   2808\u001b[0m         x, y, s\u001b[38;5;241m=\u001b[39ms, c\u001b[38;5;241m=\u001b[39mc, marker\u001b[38;5;241m=\u001b[39mmarker, cmap\u001b[38;5;241m=\u001b[39mcmap, norm\u001b[38;5;241m=\u001b[39mnorm,\n\u001b[0;32m   2809\u001b[0m         vmin\u001b[38;5;241m=\u001b[39mvmin, vmax\u001b[38;5;241m=\u001b[39mvmax, alpha\u001b[38;5;241m=\u001b[39malpha, linewidths\u001b[38;5;241m=\u001b[39mlinewidths,\n\u001b[0;32m   2810\u001b[0m         edgecolors\u001b[38;5;241m=\u001b[39medgecolors, plotnonfinite\u001b[38;5;241m=\u001b[39mplotnonfinite,\n\u001b[0;32m   2811\u001b[0m         \u001b[38;5;241m*\u001b[39m\u001b[38;5;241m*\u001b[39m({\u001b[38;5;124m\"\u001b[39m\u001b[38;5;124mdata\u001b[39m\u001b[38;5;124m\"\u001b[39m: data} \u001b[38;5;28;01mif\u001b[39;00m data \u001b[38;5;129;01mis\u001b[39;00m \u001b[38;5;129;01mnot\u001b[39;00m \u001b[38;5;28;01mNone\u001b[39;00m \u001b[38;5;28;01melse\u001b[39;00m {}), \u001b[38;5;241m*\u001b[39m\u001b[38;5;241m*\u001b[39mkwargs)\n\u001b[0;32m   2812\u001b[0m     sci(__ret)\n\u001b[0;32m   2813\u001b[0m     \u001b[38;5;28;01mreturn\u001b[39;00m __ret\n",
      "File \u001b[1;32m~\\anaconda3\\lib\\site-packages\\matplotlib\\__init__.py:1412\u001b[0m, in \u001b[0;36m_preprocess_data.<locals>.inner\u001b[1;34m(ax, data, *args, **kwargs)\u001b[0m\n\u001b[0;32m   1409\u001b[0m \u001b[38;5;129m@functools\u001b[39m\u001b[38;5;241m.\u001b[39mwraps(func)\n\u001b[0;32m   1410\u001b[0m \u001b[38;5;28;01mdef\u001b[39;00m \u001b[38;5;21minner\u001b[39m(ax, \u001b[38;5;241m*\u001b[39margs, data\u001b[38;5;241m=\u001b[39m\u001b[38;5;28;01mNone\u001b[39;00m, \u001b[38;5;241m*\u001b[39m\u001b[38;5;241m*\u001b[39mkwargs):\n\u001b[0;32m   1411\u001b[0m     \u001b[38;5;28;01mif\u001b[39;00m data \u001b[38;5;129;01mis\u001b[39;00m \u001b[38;5;28;01mNone\u001b[39;00m:\n\u001b[1;32m-> 1412\u001b[0m         \u001b[38;5;28;01mreturn\u001b[39;00m func(ax, \u001b[38;5;241m*\u001b[39m\u001b[38;5;28mmap\u001b[39m(sanitize_sequence, args), \u001b[38;5;241m*\u001b[39m\u001b[38;5;241m*\u001b[39mkwargs)\n\u001b[0;32m   1414\u001b[0m     bound \u001b[38;5;241m=\u001b[39m new_sig\u001b[38;5;241m.\u001b[39mbind(ax, \u001b[38;5;241m*\u001b[39margs, \u001b[38;5;241m*\u001b[39m\u001b[38;5;241m*\u001b[39mkwargs)\n\u001b[0;32m   1415\u001b[0m     auto_label \u001b[38;5;241m=\u001b[39m (bound\u001b[38;5;241m.\u001b[39marguments\u001b[38;5;241m.\u001b[39mget(label_namer)\n\u001b[0;32m   1416\u001b[0m                   \u001b[38;5;129;01mor\u001b[39;00m bound\u001b[38;5;241m.\u001b[39mkwargs\u001b[38;5;241m.\u001b[39mget(label_namer))\n",
      "File \u001b[1;32m~\\anaconda3\\lib\\site-packages\\matplotlib\\axes\\_axes.py:4369\u001b[0m, in \u001b[0;36mAxes.scatter\u001b[1;34m(self, x, y, s, c, marker, cmap, norm, vmin, vmax, alpha, linewidths, edgecolors, plotnonfinite, **kwargs)\u001b[0m\n\u001b[0;32m   4367\u001b[0m y \u001b[38;5;241m=\u001b[39m np\u001b[38;5;241m.\u001b[39mma\u001b[38;5;241m.\u001b[39mravel(y)\n\u001b[0;32m   4368\u001b[0m \u001b[38;5;28;01mif\u001b[39;00m x\u001b[38;5;241m.\u001b[39msize \u001b[38;5;241m!=\u001b[39m y\u001b[38;5;241m.\u001b[39msize:\n\u001b[1;32m-> 4369\u001b[0m     \u001b[38;5;28;01mraise\u001b[39;00m \u001b[38;5;167;01mValueError\u001b[39;00m(\u001b[38;5;124m\"\u001b[39m\u001b[38;5;124mx and y must be the same size\u001b[39m\u001b[38;5;124m\"\u001b[39m)\n\u001b[0;32m   4371\u001b[0m \u001b[38;5;28;01mif\u001b[39;00m s \u001b[38;5;129;01mis\u001b[39;00m \u001b[38;5;28;01mNone\u001b[39;00m:\n\u001b[0;32m   4372\u001b[0m     s \u001b[38;5;241m=\u001b[39m (\u001b[38;5;241m20\u001b[39m \u001b[38;5;28;01mif\u001b[39;00m rcParams[\u001b[38;5;124m'\u001b[39m\u001b[38;5;124m_internal.classic_mode\u001b[39m\u001b[38;5;124m'\u001b[39m] \u001b[38;5;28;01melse\u001b[39;00m\n\u001b[0;32m   4373\u001b[0m          rcParams[\u001b[38;5;124m'\u001b[39m\u001b[38;5;124mlines.markersize\u001b[39m\u001b[38;5;124m'\u001b[39m] \u001b[38;5;241m*\u001b[39m\u001b[38;5;241m*\u001b[39m \u001b[38;5;241m2.0\u001b[39m)\n",
      "\u001b[1;31mValueError\u001b[0m: x and y must be the same size"
     ]
    },
    {
     "data": {
      "image/png": "[encoded data removed]",
      "text/plain": [
       "<Figure size 432x288 with 1 Axes>"
      ]
     },
     "metadata": {
      "needs_background": "light"
     },
     "output_type": "display_data"
    }
   ],
   "source": [
    "plt.scatter(X_train,model.predict(X_train),alpha=0.5,linewidths=5,c=\"r\")"
   ]
  },
  {
   "cell_type": "code",
   "execution_count": null,
   "id": "4a1b27b7",
   "metadata": {},
   "outputs": [],
   "source": []
  }
 ],
 "metadata": {
  "kernelspec": {
   "display_name": "Python 3 (ipykernel)",
   "language": "python",
   "name": "python3"
  },
  "language_info": {
   "codemirror_mode": {
    "name": "ipython",
    "version": 3
   },
   "file_extension": ".py",
   "mimetype": "text/x-python",
   "name": "python",
   "nbconvert_exporter": "python",
   "pygments_lexer": "ipython3",
   "version": "3.9.12"
  }
 },
 "nbformat": 4,
 "nbformat_minor": 5
}
